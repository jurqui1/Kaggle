{
 "cells": [
  {
   "cell_type": "code",
   "execution_count": 1,
   "metadata": {},
   "outputs": [],
   "source": [
    "import pandas as pd\n",
    "import numpy\n",
    "import matplotlib.pyplot as plt\n",
    "import seaborn as sns\n",
    "import numpy as np\n",
    "import seaborn as sns\n",
    "import scipy.stats as ss\n",
    "import itertools\n",
    "import sklearn"
   ]
  },
  {
   "cell_type": "code",
   "execution_count": 111,
   "metadata": {},
   "outputs": [],
   "source": [
    "#If youre feeling risky\n",
    "import warnings\n",
    "warnings.filterwarnings(\"ignore\")"
   ]
  },
  {
   "cell_type": "code",
   "execution_count": 2,
   "metadata": {},
   "outputs": [],
   "source": [
    "# https://www.kaggle.com/c/nfl-playing-surface-analytics/data  has all data info\n",
    "playlist = pd.read_csv('PlayList.csv')\n",
    "inj = pd.read_csv('InjuryRecord.csv')\n",
    "trk = pd.read_csv('PlayerTrackData.csv')"
   ]
  },
  {
   "cell_type": "code",
   "execution_count": 3,
   "metadata": {},
   "outputs": [
    {
     "name": "stdout",
     "output_type": "stream",
     "text": [
      "<class 'pandas.core.frame.DataFrame'>\n",
      "RangeIndex: 267005 entries, 0 to 267004\n",
      "Data columns (total 14 columns):\n",
      "PlayerKey         267005 non-null int64\n",
      "GameID            267005 non-null object\n",
      "PlayKey           267005 non-null object\n",
      "RosterPosition    267005 non-null object\n",
      "PlayerDay         267005 non-null int64\n",
      "PlayerGame        267005 non-null int64\n",
      "StadiumType       250095 non-null object\n",
      "FieldType         267005 non-null object\n",
      "Temperature       267005 non-null int64\n",
      "Weather           248314 non-null object\n",
      "PlayType          266638 non-null object\n",
      "PlayerGamePlay    267005 non-null int64\n",
      "Position          267005 non-null object\n",
      "PositionGroup     267005 non-null object\n",
      "dtypes: int64(5), object(9)\n",
      "memory usage: 28.5+ MB\n"
     ]
    }
   ],
   "source": [
    "playlist.info()"
   ]
  },
  {
   "cell_type": "code",
   "execution_count": 4,
   "metadata": {
    "scrolled": false
   },
   "outputs": [
    {
     "data": {
      "text/html": [
       "<div>\n",
       "<style scoped>\n",
       "    .dataframe tbody tr th:only-of-type {\n",
       "        vertical-align: middle;\n",
       "    }\n",
       "\n",
       "    .dataframe tbody tr th {\n",
       "        vertical-align: top;\n",
       "    }\n",
       "\n",
       "    .dataframe thead th {\n",
       "        text-align: right;\n",
       "    }\n",
       "</style>\n",
       "<table border=\"1\" class=\"dataframe\">\n",
       "  <thead>\n",
       "    <tr style=\"text-align: right;\">\n",
       "      <th></th>\n",
       "      <th>PlayerKey</th>\n",
       "      <th>GameID</th>\n",
       "      <th>PlayKey</th>\n",
       "      <th>BodyPart</th>\n",
       "      <th>Surface</th>\n",
       "      <th>DM_M1</th>\n",
       "      <th>DM_M7</th>\n",
       "      <th>DM_M28</th>\n",
       "      <th>DM_M42</th>\n",
       "    </tr>\n",
       "  </thead>\n",
       "  <tbody>\n",
       "    <tr>\n",
       "      <td>0</td>\n",
       "      <td>39873</td>\n",
       "      <td>39873-4</td>\n",
       "      <td>39873-4-32</td>\n",
       "      <td>Knee</td>\n",
       "      <td>Synthetic</td>\n",
       "      <td>1</td>\n",
       "      <td>1</td>\n",
       "      <td>1</td>\n",
       "      <td>1</td>\n",
       "    </tr>\n",
       "    <tr>\n",
       "      <td>1</td>\n",
       "      <td>46074</td>\n",
       "      <td>46074-7</td>\n",
       "      <td>46074-7-26</td>\n",
       "      <td>Knee</td>\n",
       "      <td>Natural</td>\n",
       "      <td>1</td>\n",
       "      <td>1</td>\n",
       "      <td>0</td>\n",
       "      <td>0</td>\n",
       "    </tr>\n",
       "    <tr>\n",
       "      <td>2</td>\n",
       "      <td>36557</td>\n",
       "      <td>36557-1</td>\n",
       "      <td>36557-1-70</td>\n",
       "      <td>Ankle</td>\n",
       "      <td>Synthetic</td>\n",
       "      <td>1</td>\n",
       "      <td>1</td>\n",
       "      <td>1</td>\n",
       "      <td>1</td>\n",
       "    </tr>\n",
       "    <tr>\n",
       "      <td>3</td>\n",
       "      <td>46646</td>\n",
       "      <td>46646-3</td>\n",
       "      <td>46646-3-30</td>\n",
       "      <td>Ankle</td>\n",
       "      <td>Natural</td>\n",
       "      <td>1</td>\n",
       "      <td>0</td>\n",
       "      <td>0</td>\n",
       "      <td>0</td>\n",
       "    </tr>\n",
       "    <tr>\n",
       "      <td>4</td>\n",
       "      <td>43532</td>\n",
       "      <td>43532-5</td>\n",
       "      <td>43532-5-69</td>\n",
       "      <td>Ankle</td>\n",
       "      <td>Synthetic</td>\n",
       "      <td>1</td>\n",
       "      <td>1</td>\n",
       "      <td>1</td>\n",
       "      <td>1</td>\n",
       "    </tr>\n",
       "  </tbody>\n",
       "</table>\n",
       "</div>"
      ],
      "text/plain": [
       "   PlayerKey   GameID     PlayKey BodyPart    Surface  DM_M1  DM_M7  DM_M28  \\\n",
       "0      39873  39873-4  39873-4-32     Knee  Synthetic      1      1       1   \n",
       "1      46074  46074-7  46074-7-26     Knee    Natural      1      1       0   \n",
       "2      36557  36557-1  36557-1-70    Ankle  Synthetic      1      1       1   \n",
       "3      46646  46646-3  46646-3-30    Ankle    Natural      1      0       0   \n",
       "4      43532  43532-5  43532-5-69    Ankle  Synthetic      1      1       1   \n",
       "\n",
       "   DM_M42  \n",
       "0       1  \n",
       "1       0  \n",
       "2       1  \n",
       "3       0  \n",
       "4       1  "
      ]
     },
     "execution_count": 4,
     "metadata": {},
     "output_type": "execute_result"
    }
   ],
   "source": [
    "inj.head()"
   ]
  },
  {
   "cell_type": "code",
   "execution_count": 5,
   "metadata": {
    "scrolled": true
   },
   "outputs": [
    {
     "data": {
      "text/html": [
       "<div>\n",
       "<style scoped>\n",
       "    .dataframe tbody tr th:only-of-type {\n",
       "        vertical-align: middle;\n",
       "    }\n",
       "\n",
       "    .dataframe tbody tr th {\n",
       "        vertical-align: top;\n",
       "    }\n",
       "\n",
       "    .dataframe thead th {\n",
       "        text-align: right;\n",
       "    }\n",
       "</style>\n",
       "<table border=\"1\" class=\"dataframe\">\n",
       "  <thead>\n",
       "    <tr style=\"text-align: right;\">\n",
       "      <th></th>\n",
       "      <th>PlayKey</th>\n",
       "      <th>time</th>\n",
       "      <th>event</th>\n",
       "      <th>x</th>\n",
       "      <th>y</th>\n",
       "      <th>dir</th>\n",
       "      <th>dis</th>\n",
       "      <th>o</th>\n",
       "      <th>s</th>\n",
       "    </tr>\n",
       "  </thead>\n",
       "  <tbody>\n",
       "    <tr>\n",
       "      <td>0</td>\n",
       "      <td>26624-1-1</td>\n",
       "      <td>0.0</td>\n",
       "      <td>huddle_start_offense</td>\n",
       "      <td>87.46</td>\n",
       "      <td>28.93</td>\n",
       "      <td>288.24</td>\n",
       "      <td>0.01</td>\n",
       "      <td>262.33</td>\n",
       "      <td>0.13</td>\n",
       "    </tr>\n",
       "    <tr>\n",
       "      <td>1</td>\n",
       "      <td>26624-1-1</td>\n",
       "      <td>0.1</td>\n",
       "      <td>NaN</td>\n",
       "      <td>87.45</td>\n",
       "      <td>28.92</td>\n",
       "      <td>283.91</td>\n",
       "      <td>0.01</td>\n",
       "      <td>261.69</td>\n",
       "      <td>0.12</td>\n",
       "    </tr>\n",
       "    <tr>\n",
       "      <td>2</td>\n",
       "      <td>26624-1-1</td>\n",
       "      <td>0.2</td>\n",
       "      <td>NaN</td>\n",
       "      <td>87.44</td>\n",
       "      <td>28.92</td>\n",
       "      <td>280.40</td>\n",
       "      <td>0.01</td>\n",
       "      <td>261.17</td>\n",
       "      <td>0.12</td>\n",
       "    </tr>\n",
       "    <tr>\n",
       "      <td>3</td>\n",
       "      <td>26624-1-1</td>\n",
       "      <td>0.3</td>\n",
       "      <td>NaN</td>\n",
       "      <td>87.44</td>\n",
       "      <td>28.92</td>\n",
       "      <td>278.79</td>\n",
       "      <td>0.01</td>\n",
       "      <td>260.66</td>\n",
       "      <td>0.10</td>\n",
       "    </tr>\n",
       "    <tr>\n",
       "      <td>4</td>\n",
       "      <td>26624-1-1</td>\n",
       "      <td>0.4</td>\n",
       "      <td>NaN</td>\n",
       "      <td>87.44</td>\n",
       "      <td>28.92</td>\n",
       "      <td>275.44</td>\n",
       "      <td>0.01</td>\n",
       "      <td>260.27</td>\n",
       "      <td>0.09</td>\n",
       "    </tr>\n",
       "  </tbody>\n",
       "</table>\n",
       "</div>"
      ],
      "text/plain": [
       "     PlayKey  time                 event      x      y     dir   dis       o  \\\n",
       "0  26624-1-1   0.0  huddle_start_offense  87.46  28.93  288.24  0.01  262.33   \n",
       "1  26624-1-1   0.1                   NaN  87.45  28.92  283.91  0.01  261.69   \n",
       "2  26624-1-1   0.2                   NaN  87.44  28.92  280.40  0.01  261.17   \n",
       "3  26624-1-1   0.3                   NaN  87.44  28.92  278.79  0.01  260.66   \n",
       "4  26624-1-1   0.4                   NaN  87.44  28.92  275.44  0.01  260.27   \n",
       "\n",
       "      s  \n",
       "0  0.13  \n",
       "1  0.12  \n",
       "2  0.12  \n",
       "3  0.10  \n",
       "4  0.09  "
      ]
     },
     "execution_count": 5,
     "metadata": {},
     "output_type": "execute_result"
    }
   ],
   "source": [
    "trk.head()"
   ]
  },
  {
   "cell_type": "code",
   "execution_count": 6,
   "metadata": {},
   "outputs": [
    {
     "data": {
      "text/html": [
       "<div>\n",
       "<style scoped>\n",
       "    .dataframe tbody tr th:only-of-type {\n",
       "        vertical-align: middle;\n",
       "    }\n",
       "\n",
       "    .dataframe tbody tr th {\n",
       "        vertical-align: top;\n",
       "    }\n",
       "\n",
       "    .dataframe thead th {\n",
       "        text-align: right;\n",
       "    }\n",
       "</style>\n",
       "<table border=\"1\" class=\"dataframe\">\n",
       "  <thead>\n",
       "    <tr style=\"text-align: right;\">\n",
       "      <th></th>\n",
       "      <th>PlayerKey</th>\n",
       "      <th>GameID</th>\n",
       "      <th>PlayKey</th>\n",
       "      <th>RosterPosition</th>\n",
       "      <th>PlayerDay</th>\n",
       "      <th>PlayerGame</th>\n",
       "      <th>StadiumType</th>\n",
       "      <th>FieldType</th>\n",
       "      <th>Temperature</th>\n",
       "      <th>Weather</th>\n",
       "      <th>PlayType</th>\n",
       "      <th>PlayerGamePlay</th>\n",
       "      <th>Position</th>\n",
       "      <th>PositionGroup</th>\n",
       "    </tr>\n",
       "  </thead>\n",
       "  <tbody>\n",
       "    <tr>\n",
       "      <td>0</td>\n",
       "      <td>26624</td>\n",
       "      <td>26624-1</td>\n",
       "      <td>26624-1-1</td>\n",
       "      <td>Quarterback</td>\n",
       "      <td>1</td>\n",
       "      <td>1</td>\n",
       "      <td>Outdoor</td>\n",
       "      <td>Synthetic</td>\n",
       "      <td>63</td>\n",
       "      <td>Clear and warm</td>\n",
       "      <td>Pass</td>\n",
       "      <td>1</td>\n",
       "      <td>QB</td>\n",
       "      <td>QB</td>\n",
       "    </tr>\n",
       "    <tr>\n",
       "      <td>1</td>\n",
       "      <td>26624</td>\n",
       "      <td>26624-1</td>\n",
       "      <td>26624-1-2</td>\n",
       "      <td>Quarterback</td>\n",
       "      <td>1</td>\n",
       "      <td>1</td>\n",
       "      <td>Outdoor</td>\n",
       "      <td>Synthetic</td>\n",
       "      <td>63</td>\n",
       "      <td>Clear and warm</td>\n",
       "      <td>Pass</td>\n",
       "      <td>2</td>\n",
       "      <td>QB</td>\n",
       "      <td>QB</td>\n",
       "    </tr>\n",
       "    <tr>\n",
       "      <td>2</td>\n",
       "      <td>26624</td>\n",
       "      <td>26624-1</td>\n",
       "      <td>26624-1-3</td>\n",
       "      <td>Quarterback</td>\n",
       "      <td>1</td>\n",
       "      <td>1</td>\n",
       "      <td>Outdoor</td>\n",
       "      <td>Synthetic</td>\n",
       "      <td>63</td>\n",
       "      <td>Clear and warm</td>\n",
       "      <td>Rush</td>\n",
       "      <td>3</td>\n",
       "      <td>QB</td>\n",
       "      <td>QB</td>\n",
       "    </tr>\n",
       "    <tr>\n",
       "      <td>3</td>\n",
       "      <td>26624</td>\n",
       "      <td>26624-1</td>\n",
       "      <td>26624-1-4</td>\n",
       "      <td>Quarterback</td>\n",
       "      <td>1</td>\n",
       "      <td>1</td>\n",
       "      <td>Outdoor</td>\n",
       "      <td>Synthetic</td>\n",
       "      <td>63</td>\n",
       "      <td>Clear and warm</td>\n",
       "      <td>Rush</td>\n",
       "      <td>4</td>\n",
       "      <td>QB</td>\n",
       "      <td>QB</td>\n",
       "    </tr>\n",
       "    <tr>\n",
       "      <td>4</td>\n",
       "      <td>26624</td>\n",
       "      <td>26624-1</td>\n",
       "      <td>26624-1-5</td>\n",
       "      <td>Quarterback</td>\n",
       "      <td>1</td>\n",
       "      <td>1</td>\n",
       "      <td>Outdoor</td>\n",
       "      <td>Synthetic</td>\n",
       "      <td>63</td>\n",
       "      <td>Clear and warm</td>\n",
       "      <td>Pass</td>\n",
       "      <td>5</td>\n",
       "      <td>QB</td>\n",
       "      <td>QB</td>\n",
       "    </tr>\n",
       "  </tbody>\n",
       "</table>\n",
       "</div>"
      ],
      "text/plain": [
       "   PlayerKey   GameID    PlayKey RosterPosition  PlayerDay  PlayerGame  \\\n",
       "0      26624  26624-1  26624-1-1    Quarterback          1           1   \n",
       "1      26624  26624-1  26624-1-2    Quarterback          1           1   \n",
       "2      26624  26624-1  26624-1-3    Quarterback          1           1   \n",
       "3      26624  26624-1  26624-1-4    Quarterback          1           1   \n",
       "4      26624  26624-1  26624-1-5    Quarterback          1           1   \n",
       "\n",
       "  StadiumType  FieldType  Temperature         Weather PlayType  \\\n",
       "0     Outdoor  Synthetic           63  Clear and warm     Pass   \n",
       "1     Outdoor  Synthetic           63  Clear and warm     Pass   \n",
       "2     Outdoor  Synthetic           63  Clear and warm     Rush   \n",
       "3     Outdoor  Synthetic           63  Clear and warm     Rush   \n",
       "4     Outdoor  Synthetic           63  Clear and warm     Pass   \n",
       "\n",
       "   PlayerGamePlay Position PositionGroup  \n",
       "0               1       QB            QB  \n",
       "1               2       QB            QB  \n",
       "2               3       QB            QB  \n",
       "3               4       QB            QB  \n",
       "4               5       QB            QB  "
      ]
     },
     "execution_count": 6,
     "metadata": {},
     "output_type": "execute_result"
    }
   ],
   "source": [
    "playlist.head()"
   ]
  },
  {
   "cell_type": "markdown",
   "metadata": {},
   "source": [
    "Those Heckin NaNs"
   ]
  },
  {
   "cell_type": "code",
   "execution_count": 7,
   "metadata": {
    "scrolled": true
   },
   "outputs": [
    {
     "data": {
      "text/plain": [
       "Index(['PlayerKey', 'GameID', 'PlayKey', 'RosterPosition', 'PlayerDay',\n",
       "       'PlayerGame', 'StadiumType', 'FieldType', 'Temperature', 'Weather',\n",
       "       'PlayType', 'PlayerGamePlay', 'Position', 'PositionGroup'],\n",
       "      dtype='object')"
      ]
     },
     "execution_count": 7,
     "metadata": {},
     "output_type": "execute_result"
    }
   ],
   "source": [
    "playlist.keys()"
   ]
  },
  {
   "cell_type": "markdown",
   "metadata": {},
   "source": [
    "I want to formulate a master data frame from which I can extract features from and kick out all the ones I dont need"
   ]
  },
  {
   "cell_type": "markdown",
   "metadata": {},
   "source": [
    "Have to get Stadium Type and Weather into workable forms."
   ]
  },
  {
   "cell_type": "code",
   "execution_count": 8,
   "metadata": {},
   "outputs": [],
   "source": [
    "# .str vectorizes column (instead of evaluating as a series, goes line by line)\n",
    "# Weather Conditions (Just the Major weather conditions)\n",
    "playlist['Cloudy'] = playlist['Weather'].str.contains('Cloudy|cloudy', na = False, regex=True)\n",
    "playlist['Sunny'] = playlist['Weather'].str.contains('Sunny|Sun|Clear|sunny|clear', na = False, regex = True)\n",
    "playlist['Snow'] = playlist['Weather'].str.contains('Snow|snow|Snowy|snowy', na = False, regex = True)\n",
    "playlist['Rain'] = playlist['Weather'].str.contains('Rain|rain|Rainy|rainy|Showers|shower', na = False, regex = True)\n",
    "playlist['Indoor'] = playlist['Weather'].str.contains('Indoor|indoor|Controlled Climate', na = False, regex = True)\n",
    "# Grass type (All types included)\n",
    "playlist['Synthetic'] = playlist['FieldType'].str.contains('Synthetic', regex = True)\n",
    "playlist['Natural'] = playlist['FieldType'].str.contains('Natural', regex = True)\n",
    "# Grass type (All types included)\n",
    "playlist['Indoor'] = playlist['StadiumType'].str.contains('Indoor|Closed|closed|Indoors', na = False, regex = True)\n",
    "playlist['Outdoor'] = playlist['StadiumType'].str.contains('Outdoor|Oudoor|Ourdoor|Outdoors|Open|Bowl|Outddors|open|Heinz|outdor|Outside', na = False, regex = True)\n",
    "\n"
   ]
  },
  {
   "cell_type": "code",
   "execution_count": 9,
   "metadata": {},
   "outputs": [],
   "source": [
    "clean_df = playlist.drop(columns = [ 'Weather', 'FieldType','StadiumType'])"
   ]
  },
  {
   "cell_type": "code",
   "execution_count": 10,
   "metadata": {
    "scrolled": true
   },
   "outputs": [
    {
     "data": {
      "text/html": [
       "<div>\n",
       "<style scoped>\n",
       "    .dataframe tbody tr th:only-of-type {\n",
       "        vertical-align: middle;\n",
       "    }\n",
       "\n",
       "    .dataframe tbody tr th {\n",
       "        vertical-align: top;\n",
       "    }\n",
       "\n",
       "    .dataframe thead th {\n",
       "        text-align: right;\n",
       "    }\n",
       "</style>\n",
       "<table border=\"1\" class=\"dataframe\">\n",
       "  <thead>\n",
       "    <tr style=\"text-align: right;\">\n",
       "      <th></th>\n",
       "      <th>PlayerKey_x</th>\n",
       "      <th>GameID_x</th>\n",
       "      <th>PlayKey</th>\n",
       "      <th>BodyPart</th>\n",
       "      <th>Surface</th>\n",
       "      <th>DM_M1</th>\n",
       "      <th>DM_M7</th>\n",
       "      <th>DM_M28</th>\n",
       "      <th>DM_M42</th>\n",
       "      <th>PlayerKey_y</th>\n",
       "      <th>...</th>\n",
       "      <th>Position</th>\n",
       "      <th>PositionGroup</th>\n",
       "      <th>Cloudy</th>\n",
       "      <th>Sunny</th>\n",
       "      <th>Snow</th>\n",
       "      <th>Rain</th>\n",
       "      <th>Indoor</th>\n",
       "      <th>Synthetic</th>\n",
       "      <th>Natural</th>\n",
       "      <th>Outdoor</th>\n",
       "    </tr>\n",
       "  </thead>\n",
       "  <tbody>\n",
       "    <tr>\n",
       "      <td>0</td>\n",
       "      <td>39873</td>\n",
       "      <td>39873-4</td>\n",
       "      <td>39873-4-32</td>\n",
       "      <td>Knee</td>\n",
       "      <td>Synthetic</td>\n",
       "      <td>1</td>\n",
       "      <td>1</td>\n",
       "      <td>1</td>\n",
       "      <td>1</td>\n",
       "      <td>39873</td>\n",
       "      <td>...</td>\n",
       "      <td>OLB</td>\n",
       "      <td>LB</td>\n",
       "      <td>True</td>\n",
       "      <td>False</td>\n",
       "      <td>False</td>\n",
       "      <td>False</td>\n",
       "      <td>True</td>\n",
       "      <td>True</td>\n",
       "      <td>False</td>\n",
       "      <td>False</td>\n",
       "    </tr>\n",
       "    <tr>\n",
       "      <td>1</td>\n",
       "      <td>46074</td>\n",
       "      <td>46074-7</td>\n",
       "      <td>46074-7-26</td>\n",
       "      <td>Knee</td>\n",
       "      <td>Natural</td>\n",
       "      <td>1</td>\n",
       "      <td>1</td>\n",
       "      <td>0</td>\n",
       "      <td>0</td>\n",
       "      <td>46074</td>\n",
       "      <td>...</td>\n",
       "      <td>OLB</td>\n",
       "      <td>LB</td>\n",
       "      <td>True</td>\n",
       "      <td>False</td>\n",
       "      <td>False</td>\n",
       "      <td>False</td>\n",
       "      <td>False</td>\n",
       "      <td>False</td>\n",
       "      <td>True</td>\n",
       "      <td>True</td>\n",
       "    </tr>\n",
       "    <tr>\n",
       "      <td>2</td>\n",
       "      <td>36557</td>\n",
       "      <td>36557-1</td>\n",
       "      <td>36557-1-70</td>\n",
       "      <td>Ankle</td>\n",
       "      <td>Synthetic</td>\n",
       "      <td>1</td>\n",
       "      <td>1</td>\n",
       "      <td>1</td>\n",
       "      <td>1</td>\n",
       "      <td>36557</td>\n",
       "      <td>...</td>\n",
       "      <td>SS</td>\n",
       "      <td>DB</td>\n",
       "      <td>False</td>\n",
       "      <td>True</td>\n",
       "      <td>False</td>\n",
       "      <td>False</td>\n",
       "      <td>False</td>\n",
       "      <td>True</td>\n",
       "      <td>False</td>\n",
       "      <td>True</td>\n",
       "    </tr>\n",
       "    <tr>\n",
       "      <td>3</td>\n",
       "      <td>46646</td>\n",
       "      <td>46646-3</td>\n",
       "      <td>46646-3-30</td>\n",
       "      <td>Ankle</td>\n",
       "      <td>Natural</td>\n",
       "      <td>1</td>\n",
       "      <td>0</td>\n",
       "      <td>0</td>\n",
       "      <td>0</td>\n",
       "      <td>46646</td>\n",
       "      <td>...</td>\n",
       "      <td>LB</td>\n",
       "      <td>LB</td>\n",
       "      <td>True</td>\n",
       "      <td>False</td>\n",
       "      <td>False</td>\n",
       "      <td>False</td>\n",
       "      <td>False</td>\n",
       "      <td>False</td>\n",
       "      <td>True</td>\n",
       "      <td>True</td>\n",
       "    </tr>\n",
       "    <tr>\n",
       "      <td>4</td>\n",
       "      <td>43532</td>\n",
       "      <td>43532-5</td>\n",
       "      <td>43532-5-69</td>\n",
       "      <td>Ankle</td>\n",
       "      <td>Synthetic</td>\n",
       "      <td>1</td>\n",
       "      <td>1</td>\n",
       "      <td>1</td>\n",
       "      <td>1</td>\n",
       "      <td>43532</td>\n",
       "      <td>...</td>\n",
       "      <td>WR</td>\n",
       "      <td>WR</td>\n",
       "      <td>True</td>\n",
       "      <td>False</td>\n",
       "      <td>False</td>\n",
       "      <td>False</td>\n",
       "      <td>False</td>\n",
       "      <td>True</td>\n",
       "      <td>False</td>\n",
       "      <td>False</td>\n",
       "    </tr>\n",
       "    <tr>\n",
       "      <td>...</td>\n",
       "      <td>...</td>\n",
       "      <td>...</td>\n",
       "      <td>...</td>\n",
       "      <td>...</td>\n",
       "      <td>...</td>\n",
       "      <td>...</td>\n",
       "      <td>...</td>\n",
       "      <td>...</td>\n",
       "      <td>...</td>\n",
       "      <td>...</td>\n",
       "      <td>...</td>\n",
       "      <td>...</td>\n",
       "      <td>...</td>\n",
       "      <td>...</td>\n",
       "      <td>...</td>\n",
       "      <td>...</td>\n",
       "      <td>...</td>\n",
       "      <td>...</td>\n",
       "      <td>...</td>\n",
       "      <td>...</td>\n",
       "      <td>...</td>\n",
       "    </tr>\n",
       "    <tr>\n",
       "      <td>72</td>\n",
       "      <td>42418</td>\n",
       "      <td>42418-19</td>\n",
       "      <td>42418-19-15</td>\n",
       "      <td>Ankle</td>\n",
       "      <td>Synthetic</td>\n",
       "      <td>1</td>\n",
       "      <td>0</td>\n",
       "      <td>0</td>\n",
       "      <td>0</td>\n",
       "      <td>42418</td>\n",
       "      <td>...</td>\n",
       "      <td>C</td>\n",
       "      <td>OL</td>\n",
       "      <td>True</td>\n",
       "      <td>False</td>\n",
       "      <td>False</td>\n",
       "      <td>False</td>\n",
       "      <td>True</td>\n",
       "      <td>True</td>\n",
       "      <td>False</td>\n",
       "      <td>False</td>\n",
       "    </tr>\n",
       "    <tr>\n",
       "      <td>73</td>\n",
       "      <td>46394</td>\n",
       "      <td>46394-18</td>\n",
       "      <td>46394-18-3</td>\n",
       "      <td>Knee</td>\n",
       "      <td>Synthetic</td>\n",
       "      <td>1</td>\n",
       "      <td>1</td>\n",
       "      <td>0</td>\n",
       "      <td>0</td>\n",
       "      <td>46394</td>\n",
       "      <td>...</td>\n",
       "      <td>TE</td>\n",
       "      <td>TE</td>\n",
       "      <td>True</td>\n",
       "      <td>False</td>\n",
       "      <td>False</td>\n",
       "      <td>False</td>\n",
       "      <td>False</td>\n",
       "      <td>True</td>\n",
       "      <td>False</td>\n",
       "      <td>True</td>\n",
       "    </tr>\n",
       "    <tr>\n",
       "      <td>74</td>\n",
       "      <td>45187</td>\n",
       "      <td>45187-9</td>\n",
       "      <td>45187-9-4</td>\n",
       "      <td>Ankle</td>\n",
       "      <td>Natural</td>\n",
       "      <td>1</td>\n",
       "      <td>0</td>\n",
       "      <td>0</td>\n",
       "      <td>0</td>\n",
       "      <td>45187</td>\n",
       "      <td>...</td>\n",
       "      <td>WR</td>\n",
       "      <td>WR</td>\n",
       "      <td>True</td>\n",
       "      <td>False</td>\n",
       "      <td>False</td>\n",
       "      <td>False</td>\n",
       "      <td>False</td>\n",
       "      <td>False</td>\n",
       "      <td>True</td>\n",
       "      <td>True</td>\n",
       "    </tr>\n",
       "    <tr>\n",
       "      <td>75</td>\n",
       "      <td>42448</td>\n",
       "      <td>42448-14</td>\n",
       "      <td>42448-14-3</td>\n",
       "      <td>Knee</td>\n",
       "      <td>Synthetic</td>\n",
       "      <td>1</td>\n",
       "      <td>1</td>\n",
       "      <td>1</td>\n",
       "      <td>0</td>\n",
       "      <td>42448</td>\n",
       "      <td>...</td>\n",
       "      <td>WR</td>\n",
       "      <td>WR</td>\n",
       "      <td>True</td>\n",
       "      <td>False</td>\n",
       "      <td>False</td>\n",
       "      <td>False</td>\n",
       "      <td>False</td>\n",
       "      <td>True</td>\n",
       "      <td>False</td>\n",
       "      <td>False</td>\n",
       "    </tr>\n",
       "    <tr>\n",
       "      <td>76</td>\n",
       "      <td>47334</td>\n",
       "      <td>47334-8</td>\n",
       "      <td>47334-8-1</td>\n",
       "      <td>Knee</td>\n",
       "      <td>Synthetic</td>\n",
       "      <td>1</td>\n",
       "      <td>1</td>\n",
       "      <td>0</td>\n",
       "      <td>0</td>\n",
       "      <td>47334</td>\n",
       "      <td>...</td>\n",
       "      <td>DB</td>\n",
       "      <td>DB</td>\n",
       "      <td>False</td>\n",
       "      <td>True</td>\n",
       "      <td>False</td>\n",
       "      <td>False</td>\n",
       "      <td>True</td>\n",
       "      <td>True</td>\n",
       "      <td>False</td>\n",
       "      <td>False</td>\n",
       "    </tr>\n",
       "  </tbody>\n",
       "</table>\n",
       "<p>77 rows × 27 columns</p>\n",
       "</div>"
      ],
      "text/plain": [
       "    PlayerKey_x  GameID_x      PlayKey BodyPart    Surface  DM_M1  DM_M7  \\\n",
       "0         39873   39873-4   39873-4-32     Knee  Synthetic      1      1   \n",
       "1         46074   46074-7   46074-7-26     Knee    Natural      1      1   \n",
       "2         36557   36557-1   36557-1-70    Ankle  Synthetic      1      1   \n",
       "3         46646   46646-3   46646-3-30    Ankle    Natural      1      0   \n",
       "4         43532   43532-5   43532-5-69    Ankle  Synthetic      1      1   \n",
       "..          ...       ...          ...      ...        ...    ...    ...   \n",
       "72        42418  42418-19  42418-19-15    Ankle  Synthetic      1      0   \n",
       "73        46394  46394-18   46394-18-3     Knee  Synthetic      1      1   \n",
       "74        45187   45187-9    45187-9-4    Ankle    Natural      1      0   \n",
       "75        42448  42448-14   42448-14-3     Knee  Synthetic      1      1   \n",
       "76        47334   47334-8    47334-8-1     Knee  Synthetic      1      1   \n",
       "\n",
       "    DM_M28  DM_M42  PlayerKey_y  ... Position PositionGroup  Cloudy  Sunny  \\\n",
       "0        1       1        39873  ...      OLB            LB    True  False   \n",
       "1        0       0        46074  ...      OLB            LB    True  False   \n",
       "2        1       1        36557  ...       SS            DB   False   True   \n",
       "3        0       0        46646  ...       LB            LB    True  False   \n",
       "4        1       1        43532  ...       WR            WR    True  False   \n",
       "..     ...     ...          ...  ...      ...           ...     ...    ...   \n",
       "72       0       0        42418  ...        C            OL    True  False   \n",
       "73       0       0        46394  ...       TE            TE    True  False   \n",
       "74       0       0        45187  ...       WR            WR    True  False   \n",
       "75       1       0        42448  ...       WR            WR    True  False   \n",
       "76       0       0        47334  ...       DB            DB   False   True   \n",
       "\n",
       "     Snow   Rain  Indoor Synthetic Natural  Outdoor  \n",
       "0   False  False    True      True   False    False  \n",
       "1   False  False   False     False    True     True  \n",
       "2   False  False   False      True   False     True  \n",
       "3   False  False   False     False    True     True  \n",
       "4   False  False   False      True   False    False  \n",
       "..    ...    ...     ...       ...     ...      ...  \n",
       "72  False  False    True      True   False    False  \n",
       "73  False  False   False      True   False     True  \n",
       "74  False  False   False     False    True     True  \n",
       "75  False  False   False      True   False    False  \n",
       "76  False  False    True      True   False    False  \n",
       "\n",
       "[77 rows x 27 columns]"
      ]
     },
     "execution_count": 10,
     "metadata": {},
     "output_type": "execute_result"
    }
   ],
   "source": [
    "inj_df = inj.dropna().merge(clean_df, left_on=['PlayKey'], right_on=['PlayKey'], how='left')\n",
    "inj_df"
   ]
  },
  {
   "cell_type": "markdown",
   "metadata": {},
   "source": [
    "# Firstly, I am going to graph a bunch of different factors, some similar to ones from other competitors, to practice and see if I can gain any new information or inspiration for increasing the amount of features in my ML models. I'll reorganize everything later"
   ]
  },
  {
   "cell_type": "code",
   "execution_count": 11,
   "metadata": {
    "scrolled": true
   },
   "outputs": [
    {
     "data": {
      "image/png": "[encoded data removed]",
      "text/plain": [
       "<Figure size 1080x360 with 1 Axes>"
      ]
     },
     "metadata": {
      "needs_background": "light"
     },
     "output_type": "display_data"
    }
   ],
   "source": [
    "inj.groupby('Surface').count()['PlayerKey'].sort_values().plot(figsize = (15,5), kind = 'barh', color = 'orange')\n",
    "plt.show()"
   ]
  },
  {
   "cell_type": "markdown",
   "metadata": {},
   "source": [
    "- Not a huge difference, especially for the number of data points we have.\n",
    "- Difficult to conclude anything."
   ]
  },
  {
   "cell_type": "code",
   "execution_count": 12,
   "metadata": {
    "scrolled": true
   },
   "outputs": [
    {
     "data": {
      "image/png": "[encoded data removed]",
      "text/plain": [
       "<Figure size 1080x360 with 1 Axes>"
      ]
     },
     "metadata": {
      "needs_background": "light"
     },
     "output_type": "display_data"
    }
   ],
   "source": [
    "inj_df.groupby('PlayType')['PlayKey'].count().sort_values().plot(figsize = (15,5), kind = 'barh')\n",
    "plt.show()"
   ]
  },
  {
   "cell_type": "markdown",
   "metadata": {},
   "source": [
    "As much as I would love to conclude that pass plays are the most dangerous, they do make up a majority of plays.\n",
    "\n",
    "Lets look at the fractional difference."
   ]
  },
  {
   "cell_type": "code",
   "execution_count": 13,
   "metadata": {},
   "outputs": [
    {
     "data": {
      "text/plain": [
       "PlayType\n",
       "Kickoff                  7\n",
       "Kickoff Not Returned     1\n",
       "Kickoff Returned         1\n",
       "Pass                    32\n",
       "Punt                     9\n",
       "Punt Not Returned        1\n",
       "Punt Returned            3\n",
       "Rush                    23\n",
       "Name: PlayKey, dtype: int64"
      ]
     },
     "execution_count": 13,
     "metadata": {},
     "output_type": "execute_result"
    }
   ],
   "source": [
    "inj_play = inj_df.groupby('PlayType')['PlayKey'].count()\n",
    "inj_play"
   ]
  },
  {
   "cell_type": "markdown",
   "metadata": {},
   "source": [
    "Could have done a for loop for this, but I only had 2 outputs I wanted so I didn't"
   ]
  },
  {
   "cell_type": "code",
   "execution_count": 14,
   "metadata": {
    "scrolled": false
   },
   "outputs": [
    {
     "name": "stdout",
     "output_type": "stream",
     "text": [
      "Fraction of plays that resulted in injury that are also pass plays: 0.4155844155844156\n",
      "Fraction of plays that are passing plays: 0.5178519190813012\n",
      "Percent difference is:  19.748406779743906 %\n"
     ]
    }
   ],
   "source": [
    "# Finding fraction of plays where a player was injured on a pass\n",
    "inj_play = inj_df.groupby('PlayType')['PlayKey'].count()\n",
    "inj_pass = inj_play.Pass\n",
    "inj_plays_total = inj_play.sum()\n",
    "inj_pass_frac = inj_pass/inj_plays_total\n",
    "print('Fraction of plays that resulted in injury that are also pass plays:', inj_pass_frac)\n",
    "#Finding fraction of plays that are a passing plays\n",
    "play = clean_df.groupby('PlayType')['PlayKey'].count()\n",
    "pass_ = play.Pass\n",
    "plays_total = play.sum()\n",
    "pass_frac = pass_/plays_total\n",
    "print('Fraction of plays that are passing plays:', pass_frac)\n",
    "#Percent difference \n",
    "percent_diff = (abs(inj_pass_frac - pass_frac)/pass_frac) * 100\n",
    "print('Percent difference is: ', percent_diff, '%')"
   ]
  },
  {
   "cell_type": "code",
   "execution_count": 15,
   "metadata": {},
   "outputs": [
    {
     "name": "stdout",
     "output_type": "stream",
     "text": [
      "Fraction of plays that resulted in injury that are also rush plays: 0.2987012987012987\n",
      "Fraction of plays that are rushing plays: 0.3473098358073493\n",
      "Percent difference is:  13.995727184937396 %\n"
     ]
    }
   ],
   "source": [
    "# Finding fraction of plays where a player was injured on a pass\n",
    "inj_play = inj_df.groupby('PlayType')['PlayKey'].count()\n",
    "inj_rush = inj_play.Rush\n",
    "inj_plays_total = inj_play.sum()\n",
    "inj_rush_frac = inj_rush/inj_plays_total\n",
    "print('Fraction of plays that resulted in injury that are also rush plays:', inj_rush_frac)\n",
    "#Finding fraction of plays that are a passing plays\n",
    "play = clean_df.groupby('PlayType')['PlayKey'].count()\n",
    "rush_ = play.Rush\n",
    "plays_total = play.sum()\n",
    "rush_frac = rush_/plays_total\n",
    "print('Fraction of plays that are rushing plays:', rush_frac)\n",
    "#Percent difference \n",
    "percent_diff = (abs(inj_rush_frac - rush_frac)/rush_frac) * 100\n",
    "print('Percent difference is: ', percent_diff, '%')"
   ]
  },
  {
   "cell_type": "markdown",
   "metadata": {},
   "source": [
    "These numbers are relatively close to one another, so we cannot conclude that there is an increased risk based on the play type. (Only did it on the two most prevalent types since the amount of data for the others is scary small)"
   ]
  },
  {
   "cell_type": "code",
   "execution_count": 16,
   "metadata": {},
   "outputs": [],
   "source": [
    "Temperature_all = clean_df.Temperature[(clean_df.Temperature > -100) & (clean_df.Temperature < 200)]"
   ]
  },
  {
   "cell_type": "code",
   "execution_count": 17,
   "metadata": {},
   "outputs": [
    {
     "data": {
      "text/plain": [
       "<matplotlib.axes._subplots.AxesSubplot at 0x1a9173b1a88>"
      ]
     },
     "execution_count": 17,
     "metadata": {},
     "output_type": "execute_result"
    },
    {
     "data": {
      "image/png": "[encoded data removed]",
      "text/plain": [
       "<Figure size 432x288 with 1 Axes>"
      ]
     },
     "metadata": {
      "needs_background": "light"
     },
     "output_type": "display_data"
    }
   ],
   "source": [
    "Temperature_all.plot.box(title = 'Temperature Box Plot')"
   ]
  },
  {
   "cell_type": "code",
   "execution_count": 18,
   "metadata": {},
   "outputs": [
    {
     "data": {
      "image/png": "[encoded data removed]",
      "text/plain": [
       "<Figure size 1080x360 with 1 Axes>"
      ]
     },
     "metadata": {
      "needs_background": "light"
     },
     "output_type": "display_data"
    }
   ],
   "source": [
    "inj.groupby(['BodyPart'])['PlayerKey'].count().sort_values().plot(kind = 'bar', figsize = (15,5), title = 'Injury by Body Part')\n",
    "plt.show()"
   ]
  },
  {
   "cell_type": "code",
   "execution_count": 19,
   "metadata": {
    "scrolled": true
   },
   "outputs": [
    {
     "data": {
      "image/png": "[encoded data removed]",
      "text/plain": [
       "<Figure size 1080x360 with 1 Axes>"
      ]
     },
     "metadata": {
      "needs_background": "light"
     },
     "output_type": "display_data"
    }
   ],
   "source": [
    "inj.groupby(['BodyPart','Surface'])['PlayerKey'].count().unstack().T.plot(kind = 'bar', figsize = (15,5))\n",
    "plt.show()"
   ]
  },
  {
   "cell_type": "code",
   "execution_count": 20,
   "metadata": {
    "scrolled": false
   },
   "outputs": [
    {
     "name": "stdout",
     "output_type": "stream",
     "text": [
      "0\n",
      "{'Cloudy_count': 2337, 'Sunny_count': 2044, 'Snow_count': 38, 'Rain_count': 365, 'Indoor_count': 902}\n"
     ]
    }
   ],
   "source": [
    "# Want to make sure that all games are accounted for\n",
    "print(clean_df.GameID.isnull().sum())\n",
    "df_unique_games = clean_df.drop(columns = ['PlayerKey','PlayKey']).groupby('GameID').first()\n",
    "# Roster Position just acts as a full row in this instance\n",
    "dic_of_weathers = {}\n",
    "def get_weather_counts(weather_type):\n",
    "    dic_of_weathers[\"{}_count\".format(weather_type)] = df_unique_games.groupby('{}'.format(weather_type))['RosterPosition'].count().loc[True]\n",
    "\n",
    "get_weather_counts('Cloudy')\n",
    "get_weather_counts('Sunny')\n",
    "get_weather_counts('Snow')\n",
    "get_weather_counts('Rain')\n",
    "get_weather_counts('Indoor')\n",
    "print(dic_of_weathers)"
   ]
  },
  {
   "cell_type": "code",
   "execution_count": 21,
   "metadata": {
    "scrolled": false
   },
   "outputs": [
    {
     "data": {
      "image/png": "[encoded data removed]",
      "text/plain": [
       "<Figure size 1080x360 with 1 Axes>"
      ]
     },
     "metadata": {
      "needs_background": "light"
     },
     "output_type": "display_data"
    }
   ],
   "source": [
    "WeatherCount = pd.DataFrame(data = dic_of_weathers.values(),\n",
    "                            index = dic_of_weathers.keys())\\\n",
    "                            .rename(columns = {0: \"WeatherCount\"})\n",
    "WeatherCount.sort_values('WeatherCount', ascending = False).plot(kind = 'bar',\n",
    "                                                                 title = 'Amount of Games Played in Each Weather Condition',\n",
    "                                                                 figsize = (15,5))\n",
    "plt.show()"
   ]
  },
  {
   "cell_type": "markdown",
   "metadata": {},
   "source": [
    "# Injury Based Data:\n",
    "We would be wise to make a column based on the injuries that took place and then analyze the coniditions that were in place to see if there is any immediate connection between the factors and injury outcome."
   ]
  },
  {
   "cell_type": "code",
   "execution_count": 22,
   "metadata": {},
   "outputs": [
    {
     "name": "stdout",
     "output_type": "stream",
     "text": [
      "28\n"
     ]
    }
   ],
   "source": [
    "print(inj['PlayKey'].isna().sum())"
   ]
  },
  {
   "cell_type": "markdown",
   "metadata": {},
   "source": [
    "Since there are 28 missing plays from the data set where a player got injured it complicates things on a large scale, but it is not impossible to work with some larger overarching factors that are more game specific than play by play."
   ]
  },
  {
   "cell_type": "code",
   "execution_count": 23,
   "metadata": {
    "scrolled": true
   },
   "outputs": [],
   "source": [
    "merged_inj = inj.merge(right = clean_df, on =['GameID','PlayerKey'], how = 'left')\n",
    "# Only want the ones that weren't replicated(bc that means that theyre the first unique of their kind), the ~ reverses the\n",
    "# the boolean series and dropped columns that no longer made sense\n",
    "merged_inj = merged_inj[~merged_inj.duplicated(subset = ['GameID','PlayerKey'], keep = 'first')]\\\n",
    "    .drop(columns = ['PlayKey_x','PlayKey_y','PlayerGamePlay','PlayType'])"
   ]
  },
  {
   "cell_type": "markdown",
   "metadata": {},
   "source": [
    "Important to note that we have dropped a single play from the list since he got injured twice in the same game. Since we do not have all of the PlayIDs we cannot properly fill in for everything."
   ]
  },
  {
   "cell_type": "code",
   "execution_count": 24,
   "metadata": {},
   "outputs": [],
   "source": [
    "Temperature_inj = merged_inj.Temperature[(merged_inj.Temperature > -100) & (merged_inj.Temperature < 200)]"
   ]
  },
  {
   "cell_type": "code",
   "execution_count": 25,
   "metadata": {
    "scrolled": true
   },
   "outputs": [
    {
     "name": "stderr",
     "output_type": "stream",
     "text": [
      "No handles with labels found to put in legend.\n"
     ]
    },
    {
     "data": {
      "image/png": "[encoded data removed]",
      "text/plain": [
       "<Figure size 432x288 with 1 Axes>"
      ]
     },
     "metadata": {
      "needs_background": "light"
     },
     "output_type": "display_data"
    },
    {
     "name": "stdout",
     "output_type": "stream",
     "text": [
      "percent diff of temperature in mean of temp  7.352431363593921 %\n"
     ]
    }
   ],
   "source": [
    "Temperature_inj = merged_inj.Temperature[(merged_inj.Temperature > -100) & (merged_inj.Temperature < 200)]\n",
    "Temperature_all = clean_df.Temperature[(clean_df.Temperature > -100) & (clean_df.Temperature < 200)]\n",
    "fig, ax = plt.subplots()\n",
    "inj_temp = Temperature_inj.plot.box(Temperature_inj, color = 'orange', label = 'Injury Distribution of Temperature')\n",
    "all_temp = Temperature_all.plot.box(label = 'All Games Distribution of Temperature')\n",
    "plt.legend()\n",
    "plt.show()\n",
    "print(\"percent diff of temperature in mean of temp \",(Temperature_inj.mean() - Temperature_all.mean())/Temperature_all.mean() * 100,\"%\")"
   ]
  },
  {
   "cell_type": "code",
   "execution_count": 26,
   "metadata": {},
   "outputs": [
    {
     "data": {
      "text/html": [
       "<div>\n",
       "<style scoped>\n",
       "    .dataframe tbody tr th:only-of-type {\n",
       "        vertical-align: middle;\n",
       "    }\n",
       "\n",
       "    .dataframe tbody tr th {\n",
       "        vertical-align: top;\n",
       "    }\n",
       "\n",
       "    .dataframe thead th {\n",
       "        text-align: right;\n",
       "    }\n",
       "</style>\n",
       "<table border=\"1\" class=\"dataframe\">\n",
       "  <thead>\n",
       "    <tr style=\"text-align: right;\">\n",
       "      <th></th>\n",
       "      <th>PlayerKey</th>\n",
       "      <th>GameID</th>\n",
       "      <th>BodyPart</th>\n",
       "      <th>Surface</th>\n",
       "      <th>DM_M1</th>\n",
       "      <th>DM_M7</th>\n",
       "      <th>DM_M28</th>\n",
       "      <th>DM_M42</th>\n",
       "      <th>RosterPosition</th>\n",
       "      <th>PlayerDay</th>\n",
       "      <th>...</th>\n",
       "      <th>Position</th>\n",
       "      <th>PositionGroup</th>\n",
       "      <th>Cloudy</th>\n",
       "      <th>Sunny</th>\n",
       "      <th>Snow</th>\n",
       "      <th>Rain</th>\n",
       "      <th>Indoor</th>\n",
       "      <th>Synthetic</th>\n",
       "      <th>Natural</th>\n",
       "      <th>Outdoor</th>\n",
       "    </tr>\n",
       "  </thead>\n",
       "  <tbody>\n",
       "    <tr>\n",
       "      <td>0</td>\n",
       "      <td>39873</td>\n",
       "      <td>39873-4</td>\n",
       "      <td>Knee</td>\n",
       "      <td>Synthetic</td>\n",
       "      <td>0</td>\n",
       "      <td>0</td>\n",
       "      <td>0</td>\n",
       "      <td>1</td>\n",
       "      <td>Linebacker</td>\n",
       "      <td>29</td>\n",
       "      <td>...</td>\n",
       "      <td>OLB</td>\n",
       "      <td>LB</td>\n",
       "      <td>True</td>\n",
       "      <td>False</td>\n",
       "      <td>False</td>\n",
       "      <td>False</td>\n",
       "      <td>True</td>\n",
       "      <td>True</td>\n",
       "      <td>False</td>\n",
       "      <td>False</td>\n",
       "    </tr>\n",
       "    <tr>\n",
       "      <td>32</td>\n",
       "      <td>46074</td>\n",
       "      <td>46074-7</td>\n",
       "      <td>Knee</td>\n",
       "      <td>Natural</td>\n",
       "      <td>0</td>\n",
       "      <td>1</td>\n",
       "      <td>0</td>\n",
       "      <td>0</td>\n",
       "      <td>Linebacker</td>\n",
       "      <td>50</td>\n",
       "      <td>...</td>\n",
       "      <td>OLB</td>\n",
       "      <td>LB</td>\n",
       "      <td>True</td>\n",
       "      <td>False</td>\n",
       "      <td>False</td>\n",
       "      <td>False</td>\n",
       "      <td>False</td>\n",
       "      <td>False</td>\n",
       "      <td>True</td>\n",
       "      <td>True</td>\n",
       "    </tr>\n",
       "    <tr>\n",
       "      <td>58</td>\n",
       "      <td>36557</td>\n",
       "      <td>36557-1</td>\n",
       "      <td>Ankle</td>\n",
       "      <td>Synthetic</td>\n",
       "      <td>0</td>\n",
       "      <td>0</td>\n",
       "      <td>0</td>\n",
       "      <td>1</td>\n",
       "      <td>Safety</td>\n",
       "      <td>1</td>\n",
       "      <td>...</td>\n",
       "      <td>SS</td>\n",
       "      <td>DB</td>\n",
       "      <td>False</td>\n",
       "      <td>True</td>\n",
       "      <td>False</td>\n",
       "      <td>False</td>\n",
       "      <td>False</td>\n",
       "      <td>True</td>\n",
       "      <td>False</td>\n",
       "      <td>True</td>\n",
       "    </tr>\n",
       "    <tr>\n",
       "      <td>128</td>\n",
       "      <td>46646</td>\n",
       "      <td>46646-3</td>\n",
       "      <td>Ankle</td>\n",
       "      <td>Natural</td>\n",
       "      <td>1</td>\n",
       "      <td>0</td>\n",
       "      <td>0</td>\n",
       "      <td>0</td>\n",
       "      <td>Linebacker</td>\n",
       "      <td>15</td>\n",
       "      <td>...</td>\n",
       "      <td>LB</td>\n",
       "      <td>LB</td>\n",
       "      <td>True</td>\n",
       "      <td>False</td>\n",
       "      <td>False</td>\n",
       "      <td>False</td>\n",
       "      <td>False</td>\n",
       "      <td>False</td>\n",
       "      <td>True</td>\n",
       "      <td>True</td>\n",
       "    </tr>\n",
       "    <tr>\n",
       "      <td>158</td>\n",
       "      <td>43532</td>\n",
       "      <td>43532-5</td>\n",
       "      <td>Ankle</td>\n",
       "      <td>Synthetic</td>\n",
       "      <td>0</td>\n",
       "      <td>0</td>\n",
       "      <td>0</td>\n",
       "      <td>1</td>\n",
       "      <td>Wide Receiver</td>\n",
       "      <td>32</td>\n",
       "      <td>...</td>\n",
       "      <td>WR</td>\n",
       "      <td>WR</td>\n",
       "      <td>True</td>\n",
       "      <td>False</td>\n",
       "      <td>False</td>\n",
       "      <td>False</td>\n",
       "      <td>False</td>\n",
       "      <td>True</td>\n",
       "      <td>False</td>\n",
       "      <td>False</td>\n",
       "    </tr>\n",
       "    <tr>\n",
       "      <td>...</td>\n",
       "      <td>...</td>\n",
       "      <td>...</td>\n",
       "      <td>...</td>\n",
       "      <td>...</td>\n",
       "      <td>...</td>\n",
       "      <td>...</td>\n",
       "      <td>...</td>\n",
       "      <td>...</td>\n",
       "      <td>...</td>\n",
       "      <td>...</td>\n",
       "      <td>...</td>\n",
       "      <td>...</td>\n",
       "      <td>...</td>\n",
       "      <td>...</td>\n",
       "      <td>...</td>\n",
       "      <td>...</td>\n",
       "      <td>...</td>\n",
       "      <td>...</td>\n",
       "      <td>...</td>\n",
       "      <td>...</td>\n",
       "      <td>...</td>\n",
       "    </tr>\n",
       "    <tr>\n",
       "      <td>3292</td>\n",
       "      <td>44423</td>\n",
       "      <td>44423-13</td>\n",
       "      <td>Knee</td>\n",
       "      <td>Synthetic</td>\n",
       "      <td>1</td>\n",
       "      <td>0</td>\n",
       "      <td>0</td>\n",
       "      <td>0</td>\n",
       "      <td>Wide Receiver</td>\n",
       "      <td>365</td>\n",
       "      <td>...</td>\n",
       "      <td>WR</td>\n",
       "      <td>WR</td>\n",
       "      <td>False</td>\n",
       "      <td>True</td>\n",
       "      <td>False</td>\n",
       "      <td>False</td>\n",
       "      <td>False</td>\n",
       "      <td>True</td>\n",
       "      <td>False</td>\n",
       "      <td>True</td>\n",
       "    </tr>\n",
       "    <tr>\n",
       "      <td>3319</td>\n",
       "      <td>31933</td>\n",
       "      <td>31933-20</td>\n",
       "      <td>Knee</td>\n",
       "      <td>Synthetic</td>\n",
       "      <td>1</td>\n",
       "      <td>0</td>\n",
       "      <td>0</td>\n",
       "      <td>0</td>\n",
       "      <td>Tight End</td>\n",
       "      <td>394</td>\n",
       "      <td>...</td>\n",
       "      <td>TE</td>\n",
       "      <td>TE</td>\n",
       "      <td>True</td>\n",
       "      <td>False</td>\n",
       "      <td>False</td>\n",
       "      <td>False</td>\n",
       "      <td>True</td>\n",
       "      <td>True</td>\n",
       "      <td>False</td>\n",
       "      <td>False</td>\n",
       "    </tr>\n",
       "    <tr>\n",
       "      <td>3345</td>\n",
       "      <td>47285</td>\n",
       "      <td>47285-4</td>\n",
       "      <td>Knee</td>\n",
       "      <td>Natural</td>\n",
       "      <td>0</td>\n",
       "      <td>1</td>\n",
       "      <td>0</td>\n",
       "      <td>0</td>\n",
       "      <td>Wide Receiver</td>\n",
       "      <td>22</td>\n",
       "      <td>...</td>\n",
       "      <td>WR</td>\n",
       "      <td>WR</td>\n",
       "      <td>False</td>\n",
       "      <td>False</td>\n",
       "      <td>False</td>\n",
       "      <td>False</td>\n",
       "      <td>False</td>\n",
       "      <td>False</td>\n",
       "      <td>True</td>\n",
       "      <td>False</td>\n",
       "    </tr>\n",
       "    <tr>\n",
       "      <td>3361</td>\n",
       "      <td>37068</td>\n",
       "      <td>37068-19</td>\n",
       "      <td>Knee</td>\n",
       "      <td>Natural</td>\n",
       "      <td>0</td>\n",
       "      <td>1</td>\n",
       "      <td>0</td>\n",
       "      <td>0</td>\n",
       "      <td>Linebacker</td>\n",
       "      <td>417</td>\n",
       "      <td>...</td>\n",
       "      <td>OLB</td>\n",
       "      <td>LB</td>\n",
       "      <td>False</td>\n",
       "      <td>True</td>\n",
       "      <td>False</td>\n",
       "      <td>False</td>\n",
       "      <td>False</td>\n",
       "      <td>False</td>\n",
       "      <td>True</td>\n",
       "      <td>True</td>\n",
       "    </tr>\n",
       "    <tr>\n",
       "      <td>3381</td>\n",
       "      <td>36696</td>\n",
       "      <td>36696-24</td>\n",
       "      <td>Knee</td>\n",
       "      <td>Synthetic</td>\n",
       "      <td>0</td>\n",
       "      <td>1</td>\n",
       "      <td>0</td>\n",
       "      <td>0</td>\n",
       "      <td>Cornerback</td>\n",
       "      <td>439</td>\n",
       "      <td>...</td>\n",
       "      <td>CB</td>\n",
       "      <td>DB</td>\n",
       "      <td>False</td>\n",
       "      <td>False</td>\n",
       "      <td>False</td>\n",
       "      <td>False</td>\n",
       "      <td>True</td>\n",
       "      <td>True</td>\n",
       "      <td>False</td>\n",
       "      <td>False</td>\n",
       "    </tr>\n",
       "  </tbody>\n",
       "</table>\n",
       "<p>104 rows × 22 columns</p>\n",
       "</div>"
      ],
      "text/plain": [
       "      PlayerKey    GameID BodyPart    Surface  DM_M1  DM_M7  DM_M28  DM_M42  \\\n",
       "0         39873   39873-4     Knee  Synthetic      0      0       0       1   \n",
       "32        46074   46074-7     Knee    Natural      0      1       0       0   \n",
       "58        36557   36557-1    Ankle  Synthetic      0      0       0       1   \n",
       "128       46646   46646-3    Ankle    Natural      1      0       0       0   \n",
       "158       43532   43532-5    Ankle  Synthetic      0      0       0       1   \n",
       "...         ...       ...      ...        ...    ...    ...     ...     ...   \n",
       "3292      44423  44423-13     Knee  Synthetic      1      0       0       0   \n",
       "3319      31933  31933-20     Knee  Synthetic      1      0       0       0   \n",
       "3345      47285   47285-4     Knee    Natural      0      1       0       0   \n",
       "3361      37068  37068-19     Knee    Natural      0      1       0       0   \n",
       "3381      36696  36696-24     Knee  Synthetic      0      1       0       0   \n",
       "\n",
       "     RosterPosition  PlayerDay  ...  Position  PositionGroup Cloudy  Sunny  \\\n",
       "0        Linebacker         29  ...       OLB             LB   True  False   \n",
       "32       Linebacker         50  ...       OLB             LB   True  False   \n",
       "58           Safety          1  ...        SS             DB  False   True   \n",
       "128      Linebacker         15  ...        LB             LB   True  False   \n",
       "158   Wide Receiver         32  ...        WR             WR   True  False   \n",
       "...             ...        ...  ...       ...            ...    ...    ...   \n",
       "3292  Wide Receiver        365  ...        WR             WR  False   True   \n",
       "3319      Tight End        394  ...        TE             TE   True  False   \n",
       "3345  Wide Receiver         22  ...        WR             WR  False  False   \n",
       "3361     Linebacker        417  ...       OLB             LB  False   True   \n",
       "3381     Cornerback        439  ...        CB             DB  False  False   \n",
       "\n",
       "       Snow   Rain  Indoor  Synthetic  Natural  Outdoor  \n",
       "0     False  False    True       True    False    False  \n",
       "32    False  False   False      False     True     True  \n",
       "58    False  False   False       True    False     True  \n",
       "128   False  False   False      False     True     True  \n",
       "158   False  False   False       True    False    False  \n",
       "...     ...    ...     ...        ...      ...      ...  \n",
       "3292  False  False   False       True    False     True  \n",
       "3319  False  False    True       True    False    False  \n",
       "3345  False  False   False      False     True    False  \n",
       "3361  False  False   False      False     True     True  \n",
       "3381  False  False    True       True    False    False  \n",
       "\n",
       "[104 rows x 22 columns]"
      ]
     },
     "execution_count": 26,
     "metadata": {},
     "output_type": "execute_result"
    }
   ],
   "source": [
    "merged_inj.DM_M1 = merged_inj.DM_M1 - merged_inj.DM_M7\n",
    "merged_inj.DM_M7 = merged_inj.DM_M7 - merged_inj.DM_M28\n",
    "merged_inj.DM_M28 = merged_inj.DM_M28 - merged_inj.DM_M42\n",
    "merged_inj"
   ]
  },
  {
   "cell_type": "code",
   "execution_count": 27,
   "metadata": {
    "scrolled": true
   },
   "outputs": [
    {
     "name": "stderr",
     "output_type": "stream",
     "text": [
      "C:\\Users\\12104\\Anaconda3\\lib\\site-packages\\ipykernel_launcher.py:1: UserWarning: Pandas doesn't allow columns to be created via a new attribute name - see https://pandas.pydata.org/pandas-docs/stable/indexing.html#attribute-access\n",
      "  \"\"\"Entry point for launching an IPython kernel.\n"
     ]
    }
   ],
   "source": [
    "merged_inj.Injured = merged_inj.DM_M1 + merged_inj.DM_M7 + merged_inj.DM_M28 +merged_inj.DM_M42"
   ]
  },
  {
   "cell_type": "code",
   "execution_count": 28,
   "metadata": {
    "scrolled": false
   },
   "outputs": [
    {
     "data": {
      "text/html": [
       "<div>\n",
       "<style scoped>\n",
       "    .dataframe tbody tr th:only-of-type {\n",
       "        vertical-align: middle;\n",
       "    }\n",
       "\n",
       "    .dataframe tbody tr th {\n",
       "        vertical-align: top;\n",
       "    }\n",
       "\n",
       "    .dataframe thead th {\n",
       "        text-align: right;\n",
       "    }\n",
       "</style>\n",
       "<table border=\"1\" class=\"dataframe\">\n",
       "  <thead>\n",
       "    <tr style=\"text-align: right;\">\n",
       "      <th></th>\n",
       "      <th>PlayerKey</th>\n",
       "      <th>GameID</th>\n",
       "      <th>PlayKey</th>\n",
       "      <th>RosterPosition</th>\n",
       "      <th>PlayerDay</th>\n",
       "      <th>PlayerGame</th>\n",
       "      <th>Temperature</th>\n",
       "      <th>PlayType</th>\n",
       "      <th>PlayerGamePlay</th>\n",
       "      <th>Position</th>\n",
       "      <th>PositionGroup</th>\n",
       "      <th>Cloudy</th>\n",
       "      <th>Sunny</th>\n",
       "      <th>Snow</th>\n",
       "      <th>Rain</th>\n",
       "      <th>Indoor</th>\n",
       "      <th>Synthetic</th>\n",
       "      <th>Natural</th>\n",
       "      <th>Outdoor</th>\n",
       "    </tr>\n",
       "  </thead>\n",
       "  <tbody>\n",
       "    <tr>\n",
       "      <td>0</td>\n",
       "      <td>26624</td>\n",
       "      <td>26624-1</td>\n",
       "      <td>26624-1-1</td>\n",
       "      <td>Quarterback</td>\n",
       "      <td>1</td>\n",
       "      <td>1</td>\n",
       "      <td>63</td>\n",
       "      <td>Pass</td>\n",
       "      <td>1</td>\n",
       "      <td>QB</td>\n",
       "      <td>QB</td>\n",
       "      <td>False</td>\n",
       "      <td>True</td>\n",
       "      <td>False</td>\n",
       "      <td>False</td>\n",
       "      <td>False</td>\n",
       "      <td>True</td>\n",
       "      <td>False</td>\n",
       "      <td>True</td>\n",
       "    </tr>\n",
       "    <tr>\n",
       "      <td>1</td>\n",
       "      <td>26624</td>\n",
       "      <td>26624-1</td>\n",
       "      <td>26624-1-2</td>\n",
       "      <td>Quarterback</td>\n",
       "      <td>1</td>\n",
       "      <td>1</td>\n",
       "      <td>63</td>\n",
       "      <td>Pass</td>\n",
       "      <td>2</td>\n",
       "      <td>QB</td>\n",
       "      <td>QB</td>\n",
       "      <td>False</td>\n",
       "      <td>True</td>\n",
       "      <td>False</td>\n",
       "      <td>False</td>\n",
       "      <td>False</td>\n",
       "      <td>True</td>\n",
       "      <td>False</td>\n",
       "      <td>True</td>\n",
       "    </tr>\n",
       "    <tr>\n",
       "      <td>2</td>\n",
       "      <td>26624</td>\n",
       "      <td>26624-1</td>\n",
       "      <td>26624-1-3</td>\n",
       "      <td>Quarterback</td>\n",
       "      <td>1</td>\n",
       "      <td>1</td>\n",
       "      <td>63</td>\n",
       "      <td>Rush</td>\n",
       "      <td>3</td>\n",
       "      <td>QB</td>\n",
       "      <td>QB</td>\n",
       "      <td>False</td>\n",
       "      <td>True</td>\n",
       "      <td>False</td>\n",
       "      <td>False</td>\n",
       "      <td>False</td>\n",
       "      <td>True</td>\n",
       "      <td>False</td>\n",
       "      <td>True</td>\n",
       "    </tr>\n",
       "    <tr>\n",
       "      <td>3</td>\n",
       "      <td>26624</td>\n",
       "      <td>26624-1</td>\n",
       "      <td>26624-1-4</td>\n",
       "      <td>Quarterback</td>\n",
       "      <td>1</td>\n",
       "      <td>1</td>\n",
       "      <td>63</td>\n",
       "      <td>Rush</td>\n",
       "      <td>4</td>\n",
       "      <td>QB</td>\n",
       "      <td>QB</td>\n",
       "      <td>False</td>\n",
       "      <td>True</td>\n",
       "      <td>False</td>\n",
       "      <td>False</td>\n",
       "      <td>False</td>\n",
       "      <td>True</td>\n",
       "      <td>False</td>\n",
       "      <td>True</td>\n",
       "    </tr>\n",
       "    <tr>\n",
       "      <td>4</td>\n",
       "      <td>26624</td>\n",
       "      <td>26624-1</td>\n",
       "      <td>26624-1-5</td>\n",
       "      <td>Quarterback</td>\n",
       "      <td>1</td>\n",
       "      <td>1</td>\n",
       "      <td>63</td>\n",
       "      <td>Pass</td>\n",
       "      <td>5</td>\n",
       "      <td>QB</td>\n",
       "      <td>QB</td>\n",
       "      <td>False</td>\n",
       "      <td>True</td>\n",
       "      <td>False</td>\n",
       "      <td>False</td>\n",
       "      <td>False</td>\n",
       "      <td>True</td>\n",
       "      <td>False</td>\n",
       "      <td>True</td>\n",
       "    </tr>\n",
       "  </tbody>\n",
       "</table>\n",
       "</div>"
      ],
      "text/plain": [
       "   PlayerKey   GameID    PlayKey RosterPosition  PlayerDay  PlayerGame  \\\n",
       "0      26624  26624-1  26624-1-1    Quarterback          1           1   \n",
       "1      26624  26624-1  26624-1-2    Quarterback          1           1   \n",
       "2      26624  26624-1  26624-1-3    Quarterback          1           1   \n",
       "3      26624  26624-1  26624-1-4    Quarterback          1           1   \n",
       "4      26624  26624-1  26624-1-5    Quarterback          1           1   \n",
       "\n",
       "   Temperature PlayType  PlayerGamePlay Position PositionGroup  Cloudy  Sunny  \\\n",
       "0           63     Pass               1       QB            QB   False   True   \n",
       "1           63     Pass               2       QB            QB   False   True   \n",
       "2           63     Rush               3       QB            QB   False   True   \n",
       "3           63     Rush               4       QB            QB   False   True   \n",
       "4           63     Pass               5       QB            QB   False   True   \n",
       "\n",
       "    Snow   Rain  Indoor  Synthetic  Natural  Outdoor  \n",
       "0  False  False   False       True    False     True  \n",
       "1  False  False   False       True    False     True  \n",
       "2  False  False   False       True    False     True  \n",
       "3  False  False   False       True    False     True  \n",
       "4  False  False   False       True    False     True  "
      ]
     },
     "execution_count": 28,
     "metadata": {},
     "output_type": "execute_result"
    }
   ],
   "source": [
    "clean_df.head()"
   ]
  },
  {
   "cell_type": "code",
   "execution_count": 29,
   "metadata": {},
   "outputs": [],
   "source": [
    "game_df_cleaned =clean_df[['GameID', 'Cloudy', 'Sunny', 'Snow', 'Rain', 'Indoor',\n",
    "                           'Synthetic', 'Natural', 'Outdoor', 'Temperature', 'Position']]\\\n",
    ".drop_duplicates().reset_index().drop(columns=['index'])"
   ]
  },
  {
   "cell_type": "code",
   "execution_count": 30,
   "metadata": {
    "scrolled": true
   },
   "outputs": [
    {
     "name": "stdout",
     "output_type": "stream",
     "text": [
      "Index(['GameID', 'Cloudy', 'Sunny', 'Snow', 'Rain', 'Indoor', 'Synthetic',\n",
      "       'Natural', 'Outdoor', 'Temperature', 'Position'],\n",
      "      dtype='object')\n"
     ]
    },
    {
     "data": {
      "text/html": [
       "<div>\n",
       "<style scoped>\n",
       "    .dataframe tbody tr th:only-of-type {\n",
       "        vertical-align: middle;\n",
       "    }\n",
       "\n",
       "    .dataframe tbody tr th {\n",
       "        vertical-align: top;\n",
       "    }\n",
       "\n",
       "    .dataframe thead th {\n",
       "        text-align: right;\n",
       "    }\n",
       "</style>\n",
       "<table border=\"1\" class=\"dataframe\">\n",
       "  <thead>\n",
       "    <tr style=\"text-align: right;\">\n",
       "      <th></th>\n",
       "      <th>GameID</th>\n",
       "      <th>Cloudy</th>\n",
       "      <th>Sunny</th>\n",
       "      <th>Snow</th>\n",
       "      <th>Rain</th>\n",
       "      <th>Indoor</th>\n",
       "      <th>Synthetic</th>\n",
       "      <th>Natural</th>\n",
       "      <th>Outdoor</th>\n",
       "      <th>Temperature</th>\n",
       "      <th>Position</th>\n",
       "    </tr>\n",
       "  </thead>\n",
       "  <tbody>\n",
       "    <tr>\n",
       "      <td>0</td>\n",
       "      <td>26624-1</td>\n",
       "      <td>False</td>\n",
       "      <td>True</td>\n",
       "      <td>False</td>\n",
       "      <td>False</td>\n",
       "      <td>False</td>\n",
       "      <td>True</td>\n",
       "      <td>False</td>\n",
       "      <td>True</td>\n",
       "      <td>63</td>\n",
       "      <td>QB</td>\n",
       "    </tr>\n",
       "    <tr>\n",
       "      <td>1</td>\n",
       "      <td>26624-2</td>\n",
       "      <td>True</td>\n",
       "      <td>False</td>\n",
       "      <td>False</td>\n",
       "      <td>False</td>\n",
       "      <td>True</td>\n",
       "      <td>True</td>\n",
       "      <td>False</td>\n",
       "      <td>False</td>\n",
       "      <td>85</td>\n",
       "      <td>QB</td>\n",
       "    </tr>\n",
       "    <tr>\n",
       "      <td>2</td>\n",
       "      <td>26624-3</td>\n",
       "      <td>False</td>\n",
       "      <td>True</td>\n",
       "      <td>False</td>\n",
       "      <td>False</td>\n",
       "      <td>False</td>\n",
       "      <td>True</td>\n",
       "      <td>False</td>\n",
       "      <td>True</td>\n",
       "      <td>84</td>\n",
       "      <td>QB</td>\n",
       "    </tr>\n",
       "    <tr>\n",
       "      <td>3</td>\n",
       "      <td>26624-3</td>\n",
       "      <td>False</td>\n",
       "      <td>True</td>\n",
       "      <td>False</td>\n",
       "      <td>False</td>\n",
       "      <td>False</td>\n",
       "      <td>True</td>\n",
       "      <td>False</td>\n",
       "      <td>True</td>\n",
       "      <td>84</td>\n",
       "      <td>Missing Data</td>\n",
       "    </tr>\n",
       "    <tr>\n",
       "      <td>4</td>\n",
       "      <td>26624-4</td>\n",
       "      <td>False</td>\n",
       "      <td>True</td>\n",
       "      <td>False</td>\n",
       "      <td>False</td>\n",
       "      <td>False</td>\n",
       "      <td>True</td>\n",
       "      <td>False</td>\n",
       "      <td>True</td>\n",
       "      <td>61</td>\n",
       "      <td>QB</td>\n",
       "    </tr>\n",
       "  </tbody>\n",
       "</table>\n",
       "</div>"
      ],
      "text/plain": [
       "    GameID  Cloudy  Sunny   Snow   Rain  Indoor  Synthetic  Natural  Outdoor  \\\n",
       "0  26624-1   False   True  False  False   False       True    False     True   \n",
       "1  26624-2    True  False  False  False    True       True    False    False   \n",
       "2  26624-3   False   True  False  False   False       True    False     True   \n",
       "3  26624-3   False   True  False  False   False       True    False     True   \n",
       "4  26624-4   False   True  False  False   False       True    False     True   \n",
       "\n",
       "   Temperature      Position  \n",
       "0           63            QB  \n",
       "1           85            QB  \n",
       "2           84            QB  \n",
       "3           84  Missing Data  \n",
       "4           61            QB  "
      ]
     },
     "execution_count": 30,
     "metadata": {},
     "output_type": "execute_result"
    }
   ],
   "source": [
    "print(game_df_cleaned.keys())\n",
    "game_df_cleaned.head()"
   ]
  },
  {
   "cell_type": "code",
   "execution_count": 31,
   "metadata": {},
   "outputs": [
    {
     "name": "stdout",
     "output_type": "stream",
     "text": [
      "Index(['PlayerKey', 'GameID', 'PlayKey', 'BodyPart', 'Surface', 'DM_M1',\n",
      "       'DM_M7', 'DM_M28', 'DM_M42'],\n",
      "      dtype='object')\n"
     ]
    },
    {
     "data": {
      "text/html": [
       "<div>\n",
       "<style scoped>\n",
       "    .dataframe tbody tr th:only-of-type {\n",
       "        vertical-align: middle;\n",
       "    }\n",
       "\n",
       "    .dataframe tbody tr th {\n",
       "        vertical-align: top;\n",
       "    }\n",
       "\n",
       "    .dataframe thead th {\n",
       "        text-align: right;\n",
       "    }\n",
       "</style>\n",
       "<table border=\"1\" class=\"dataframe\">\n",
       "  <thead>\n",
       "    <tr style=\"text-align: right;\">\n",
       "      <th></th>\n",
       "      <th>PlayerKey</th>\n",
       "      <th>GameID</th>\n",
       "      <th>PlayKey</th>\n",
       "      <th>BodyPart</th>\n",
       "      <th>Surface</th>\n",
       "      <th>DM_M1</th>\n",
       "      <th>DM_M7</th>\n",
       "      <th>DM_M28</th>\n",
       "      <th>DM_M42</th>\n",
       "    </tr>\n",
       "  </thead>\n",
       "  <tbody>\n",
       "    <tr>\n",
       "      <td>0</td>\n",
       "      <td>39873</td>\n",
       "      <td>39873-4</td>\n",
       "      <td>39873-4-32</td>\n",
       "      <td>Knee</td>\n",
       "      <td>Synthetic</td>\n",
       "      <td>1</td>\n",
       "      <td>1</td>\n",
       "      <td>1</td>\n",
       "      <td>1</td>\n",
       "    </tr>\n",
       "    <tr>\n",
       "      <td>1</td>\n",
       "      <td>46074</td>\n",
       "      <td>46074-7</td>\n",
       "      <td>46074-7-26</td>\n",
       "      <td>Knee</td>\n",
       "      <td>Natural</td>\n",
       "      <td>1</td>\n",
       "      <td>1</td>\n",
       "      <td>0</td>\n",
       "      <td>0</td>\n",
       "    </tr>\n",
       "    <tr>\n",
       "      <td>2</td>\n",
       "      <td>36557</td>\n",
       "      <td>36557-1</td>\n",
       "      <td>36557-1-70</td>\n",
       "      <td>Ankle</td>\n",
       "      <td>Synthetic</td>\n",
       "      <td>1</td>\n",
       "      <td>1</td>\n",
       "      <td>1</td>\n",
       "      <td>1</td>\n",
       "    </tr>\n",
       "    <tr>\n",
       "      <td>3</td>\n",
       "      <td>46646</td>\n",
       "      <td>46646-3</td>\n",
       "      <td>46646-3-30</td>\n",
       "      <td>Ankle</td>\n",
       "      <td>Natural</td>\n",
       "      <td>1</td>\n",
       "      <td>0</td>\n",
       "      <td>0</td>\n",
       "      <td>0</td>\n",
       "    </tr>\n",
       "    <tr>\n",
       "      <td>4</td>\n",
       "      <td>43532</td>\n",
       "      <td>43532-5</td>\n",
       "      <td>43532-5-69</td>\n",
       "      <td>Ankle</td>\n",
       "      <td>Synthetic</td>\n",
       "      <td>1</td>\n",
       "      <td>1</td>\n",
       "      <td>1</td>\n",
       "      <td>1</td>\n",
       "    </tr>\n",
       "  </tbody>\n",
       "</table>\n",
       "</div>"
      ],
      "text/plain": [
       "   PlayerKey   GameID     PlayKey BodyPart    Surface  DM_M1  DM_M7  DM_M28  \\\n",
       "0      39873  39873-4  39873-4-32     Knee  Synthetic      1      1       1   \n",
       "1      46074  46074-7  46074-7-26     Knee    Natural      1      1       0   \n",
       "2      36557  36557-1  36557-1-70    Ankle  Synthetic      1      1       1   \n",
       "3      46646  46646-3  46646-3-30    Ankle    Natural      1      0       0   \n",
       "4      43532  43532-5  43532-5-69    Ankle  Synthetic      1      1       1   \n",
       "\n",
       "   DM_M42  \n",
       "0       1  \n",
       "1       0  \n",
       "2       1  \n",
       "3       0  \n",
       "4       1  "
      ]
     },
     "execution_count": 31,
     "metadata": {},
     "output_type": "execute_result"
    }
   ],
   "source": [
    "print(inj.keys())\n",
    "inj.head()"
   ]
  },
  {
   "cell_type": "code",
   "execution_count": 32,
   "metadata": {},
   "outputs": [
    {
     "data": {
      "text/html": [
       "<div>\n",
       "<style scoped>\n",
       "    .dataframe tbody tr th:only-of-type {\n",
       "        vertical-align: middle;\n",
       "    }\n",
       "\n",
       "    .dataframe tbody tr th {\n",
       "        vertical-align: top;\n",
       "    }\n",
       "\n",
       "    .dataframe thead th {\n",
       "        text-align: right;\n",
       "    }\n",
       "</style>\n",
       "<table border=\"1\" class=\"dataframe\">\n",
       "  <thead>\n",
       "    <tr style=\"text-align: right;\">\n",
       "      <th></th>\n",
       "      <th>GameID</th>\n",
       "      <th>BodyPart</th>\n",
       "      <th>DM_M1</th>\n",
       "      <th>DM_M7</th>\n",
       "      <th>DM_M28</th>\n",
       "      <th>DM_M42</th>\n",
       "      <th>Cloudy</th>\n",
       "      <th>Sunny</th>\n",
       "      <th>Snow</th>\n",
       "      <th>Rain</th>\n",
       "      <th>Indoor</th>\n",
       "      <th>Synthetic</th>\n",
       "      <th>Natural</th>\n",
       "      <th>Outdoor</th>\n",
       "      <th>Temperature</th>\n",
       "      <th>Position</th>\n",
       "      <th>Injury</th>\n",
       "    </tr>\n",
       "  </thead>\n",
       "  <tbody>\n",
       "    <tr>\n",
       "      <td>0</td>\n",
       "      <td>39873-4</td>\n",
       "      <td>Knee</td>\n",
       "      <td>0</td>\n",
       "      <td>0</td>\n",
       "      <td>0</td>\n",
       "      <td>1</td>\n",
       "      <td>True</td>\n",
       "      <td>False</td>\n",
       "      <td>False</td>\n",
       "      <td>False</td>\n",
       "      <td>True</td>\n",
       "      <td>True</td>\n",
       "      <td>False</td>\n",
       "      <td>False</td>\n",
       "      <td>84</td>\n",
       "      <td>OLB</td>\n",
       "      <td>1</td>\n",
       "    </tr>\n",
       "    <tr>\n",
       "      <td>1</td>\n",
       "      <td>46074-7</td>\n",
       "      <td>Knee</td>\n",
       "      <td>0</td>\n",
       "      <td>1</td>\n",
       "      <td>0</td>\n",
       "      <td>0</td>\n",
       "      <td>True</td>\n",
       "      <td>False</td>\n",
       "      <td>False</td>\n",
       "      <td>False</td>\n",
       "      <td>False</td>\n",
       "      <td>False</td>\n",
       "      <td>True</td>\n",
       "      <td>True</td>\n",
       "      <td>76</td>\n",
       "      <td>OLB</td>\n",
       "      <td>1</td>\n",
       "    </tr>\n",
       "    <tr>\n",
       "      <td>2</td>\n",
       "      <td>36557-1</td>\n",
       "      <td>Ankle</td>\n",
       "      <td>0</td>\n",
       "      <td>0</td>\n",
       "      <td>0</td>\n",
       "      <td>1</td>\n",
       "      <td>False</td>\n",
       "      <td>True</td>\n",
       "      <td>False</td>\n",
       "      <td>False</td>\n",
       "      <td>False</td>\n",
       "      <td>True</td>\n",
       "      <td>False</td>\n",
       "      <td>True</td>\n",
       "      <td>63</td>\n",
       "      <td>SS</td>\n",
       "      <td>1</td>\n",
       "    </tr>\n",
       "    <tr>\n",
       "      <td>3</td>\n",
       "      <td>46646-3</td>\n",
       "      <td>Ankle</td>\n",
       "      <td>1</td>\n",
       "      <td>0</td>\n",
       "      <td>0</td>\n",
       "      <td>0</td>\n",
       "      <td>True</td>\n",
       "      <td>False</td>\n",
       "      <td>False</td>\n",
       "      <td>False</td>\n",
       "      <td>False</td>\n",
       "      <td>False</td>\n",
       "      <td>True</td>\n",
       "      <td>True</td>\n",
       "      <td>80</td>\n",
       "      <td>LB</td>\n",
       "      <td>1</td>\n",
       "    </tr>\n",
       "    <tr>\n",
       "      <td>4</td>\n",
       "      <td>43532-5</td>\n",
       "      <td>Ankle</td>\n",
       "      <td>0</td>\n",
       "      <td>0</td>\n",
       "      <td>0</td>\n",
       "      <td>1</td>\n",
       "      <td>True</td>\n",
       "      <td>False</td>\n",
       "      <td>False</td>\n",
       "      <td>False</td>\n",
       "      <td>False</td>\n",
       "      <td>True</td>\n",
       "      <td>False</td>\n",
       "      <td>False</td>\n",
       "      <td>89</td>\n",
       "      <td>WR</td>\n",
       "      <td>1</td>\n",
       "    </tr>\n",
       "    <tr>\n",
       "      <td>...</td>\n",
       "      <td>...</td>\n",
       "      <td>...</td>\n",
       "      <td>...</td>\n",
       "      <td>...</td>\n",
       "      <td>...</td>\n",
       "      <td>...</td>\n",
       "      <td>...</td>\n",
       "      <td>...</td>\n",
       "      <td>...</td>\n",
       "      <td>...</td>\n",
       "      <td>...</td>\n",
       "      <td>...</td>\n",
       "      <td>...</td>\n",
       "      <td>...</td>\n",
       "      <td>...</td>\n",
       "      <td>...</td>\n",
       "      <td>...</td>\n",
       "    </tr>\n",
       "    <tr>\n",
       "      <td>5737</td>\n",
       "      <td>47888-9</td>\n",
       "      <td>NaN</td>\n",
       "      <td>0</td>\n",
       "      <td>0</td>\n",
       "      <td>0</td>\n",
       "      <td>0</td>\n",
       "      <td>True</td>\n",
       "      <td>False</td>\n",
       "      <td>False</td>\n",
       "      <td>False</td>\n",
       "      <td>False</td>\n",
       "      <td>True</td>\n",
       "      <td>False</td>\n",
       "      <td>True</td>\n",
       "      <td>53</td>\n",
       "      <td>DB</td>\n",
       "      <td>0</td>\n",
       "    </tr>\n",
       "    <tr>\n",
       "      <td>5738</td>\n",
       "      <td>47888-10</td>\n",
       "      <td>NaN</td>\n",
       "      <td>0</td>\n",
       "      <td>0</td>\n",
       "      <td>0</td>\n",
       "      <td>0</td>\n",
       "      <td>True</td>\n",
       "      <td>False</td>\n",
       "      <td>False</td>\n",
       "      <td>False</td>\n",
       "      <td>False</td>\n",
       "      <td>False</td>\n",
       "      <td>True</td>\n",
       "      <td>True</td>\n",
       "      <td>82</td>\n",
       "      <td>DB</td>\n",
       "      <td>0</td>\n",
       "    </tr>\n",
       "    <tr>\n",
       "      <td>5739</td>\n",
       "      <td>47888-11</td>\n",
       "      <td>NaN</td>\n",
       "      <td>0</td>\n",
       "      <td>0</td>\n",
       "      <td>0</td>\n",
       "      <td>0</td>\n",
       "      <td>True</td>\n",
       "      <td>False</td>\n",
       "      <td>False</td>\n",
       "      <td>False</td>\n",
       "      <td>False</td>\n",
       "      <td>False</td>\n",
       "      <td>True</td>\n",
       "      <td>True</td>\n",
       "      <td>42</td>\n",
       "      <td>DB</td>\n",
       "      <td>0</td>\n",
       "    </tr>\n",
       "    <tr>\n",
       "      <td>5740</td>\n",
       "      <td>47888-12</td>\n",
       "      <td>NaN</td>\n",
       "      <td>0</td>\n",
       "      <td>0</td>\n",
       "      <td>0</td>\n",
       "      <td>0</td>\n",
       "      <td>False</td>\n",
       "      <td>True</td>\n",
       "      <td>False</td>\n",
       "      <td>False</td>\n",
       "      <td>False</td>\n",
       "      <td>True</td>\n",
       "      <td>False</td>\n",
       "      <td>True</td>\n",
       "      <td>40</td>\n",
       "      <td>DB</td>\n",
       "      <td>0</td>\n",
       "    </tr>\n",
       "    <tr>\n",
       "      <td>5741</td>\n",
       "      <td>47888-13</td>\n",
       "      <td>NaN</td>\n",
       "      <td>0</td>\n",
       "      <td>0</td>\n",
       "      <td>0</td>\n",
       "      <td>0</td>\n",
       "      <td>False</td>\n",
       "      <td>True</td>\n",
       "      <td>False</td>\n",
       "      <td>False</td>\n",
       "      <td>False</td>\n",
       "      <td>True</td>\n",
       "      <td>False</td>\n",
       "      <td>True</td>\n",
       "      <td>33</td>\n",
       "      <td>DB</td>\n",
       "      <td>0</td>\n",
       "    </tr>\n",
       "  </tbody>\n",
       "</table>\n",
       "<p>5742 rows × 17 columns</p>\n",
       "</div>"
      ],
      "text/plain": [
       "        GameID BodyPart  DM_M1  DM_M7  DM_M28  DM_M42  Cloudy  Sunny   Snow  \\\n",
       "0      39873-4     Knee      0      0       0       1    True  False  False   \n",
       "1      46074-7     Knee      0      1       0       0    True  False  False   \n",
       "2      36557-1    Ankle      0      0       0       1   False   True  False   \n",
       "3      46646-3    Ankle      1      0       0       0    True  False  False   \n",
       "4      43532-5    Ankle      0      0       0       1    True  False  False   \n",
       "...        ...      ...    ...    ...     ...     ...     ...    ...    ...   \n",
       "5737   47888-9      NaN      0      0       0       0    True  False  False   \n",
       "5738  47888-10      NaN      0      0       0       0    True  False  False   \n",
       "5739  47888-11      NaN      0      0       0       0    True  False  False   \n",
       "5740  47888-12      NaN      0      0       0       0   False   True  False   \n",
       "5741  47888-13      NaN      0      0       0       0   False   True  False   \n",
       "\n",
       "       Rain  Indoor  Synthetic  Natural  Outdoor  Temperature Position  Injury  \n",
       "0     False    True       True    False    False           84      OLB       1  \n",
       "1     False   False      False     True     True           76      OLB       1  \n",
       "2     False   False       True    False     True           63       SS       1  \n",
       "3     False   False      False     True     True           80       LB       1  \n",
       "4     False   False       True    False    False           89       WR       1  \n",
       "...     ...     ...        ...      ...      ...          ...      ...     ...  \n",
       "5737  False   False       True    False     True           53       DB       0  \n",
       "5738  False   False      False     True     True           82       DB       0  \n",
       "5739  False   False      False     True     True           42       DB       0  \n",
       "5740  False   False       True    False     True           40       DB       0  \n",
       "5741  False   False       True    False     True           33       DB       0  \n",
       "\n",
       "[5742 rows x 17 columns]"
      ]
     },
     "execution_count": 32,
     "metadata": {},
     "output_type": "execute_result"
    }
   ],
   "source": [
    "game_injury_df = inj.merge(game_df_cleaned, on = 'GameID', how = 'outer').drop_duplicates()\n",
    "#\n",
    "game_injury_df['DM_M1'] = game_injury_df['DM_M1'].fillna(0).astype(int)\n",
    "game_injury_df['DM_M7'] = game_injury_df['DM_M7'].fillna(0).astype(int)\n",
    "game_injury_df['DM_M28'] = game_injury_df['DM_M28'].fillna(0).astype(int)\n",
    "game_injury_df['DM_M42'] = game_injury_df['DM_M42'].fillna(0).astype(int)\n",
    "#\n",
    "game_injury_df.DM_M1 = game_injury_df.DM_M1 - game_injury_df.DM_M7\n",
    "game_injury_df.DM_M7 = game_injury_df.DM_M7 - game_injury_df.DM_M28\n",
    "game_injury_df.DM_M28 = game_injury_df.DM_M28 - game_injury_df.DM_M42\n",
    "#\n",
    "game_injury_df = game_injury_df.drop(columns=['PlayerKey', 'PlayKey','Surface'])\n",
    "\n",
    "game_injury_df['Injury'] = game_injury_df['DM_M1'] + game_injury_df['DM_M7']\\\n",
    "+ game_injury_df['DM_M28'] + game_injury_df['DM_M42']\n",
    "#\n",
    "game_injury_df"
   ]
  },
  {
   "cell_type": "code",
   "execution_count": 33,
   "metadata": {},
   "outputs": [
    {
     "data": {
      "text/plain": [
       "<matplotlib.axes._subplots.AxesSubplot at 0x1aa5ea58e08>"
      ]
     },
     "execution_count": 33,
     "metadata": {},
     "output_type": "execute_result"
    },
    {
     "data": {
      "image/png": "[encoded data removed]",
      "text/plain": [
       "<Figure size 432x288 with 2 Axes>"
      ]
     },
     "metadata": {
      "needs_background": "light"
     },
     "output_type": "display_data"
    }
   ],
   "source": [
    "corr_df = game_injury_df.drop(columns = ['DM_M1','DM_M7','DM_M28','DM_M42','GameID','BodyPart'])\n",
    "corr_df = corr_df[(corr_df.Temperature > -100) & (corr_df.Temperature < 200)]\n",
    "sns.heatmap(corr_df.corr())"
   ]
  },
  {
   "cell_type": "code",
   "execution_count": 34,
   "metadata": {},
   "outputs": [],
   "source": [
    "def cramers_v(confusion_matrix):\n",
    "    \"\"\" calculate Cramers V statistic for categorical-categorical association.\n",
    "        uses correction from Bergsma and Wicher, \n",
    "        Journal of the Korean Statistical Society 42 (2013): 323-328\n",
    "    \"\"\"\n",
    "    chi2 = ss.chi2_contingency(confusion_matrix)[0]\n",
    "    n = confusion_matrix.sum().sum()\n",
    "    phi2 = chi2/n\n",
    "    r,k = confusion_matrix.shape\n",
    "    phi2corr = max(0, phi2 - ((k-1)*(r-1))/(n-1))    \n",
    "    rcorr = r - ((r-1)**2)/(n-1)\n",
    "    kcorr = k - ((k-1)**2)/(n-1)\n",
    "    return np.sqrt(phi2corr / min( (kcorr-1), (rcorr-1)))\n"
   ]
  },
  {
   "cell_type": "code",
   "execution_count": 35,
   "metadata": {},
   "outputs": [],
   "source": [
    "# Source:\n",
    "# https://stackoverflow.com/questions/51859894/how-to-plot-a-cramer-s-v-heatmap-for-categorical-features\n",
    "def plot_cramers_v_heatmap(df, cols):\n",
    "    corrM = np.zeros((len(cols),len(cols)))\n",
    "\n",
    "    for col1, col2 in itertools.combinations(cols, 2):\n",
    "        idx1, idx2 = cols.index(col1), cols.index(col2)\n",
    "        corrM[idx1, idx2] = cramers_v(pd.crosstab(df[col1], df[col2]).as_matrix())\n",
    "        corrM[idx2, idx1] = corrM[idx1, idx2]\n",
    "\n",
    "    corr = pd.DataFrame(corrM, index=cols, columns=cols)\n",
    "    fig, ax = plt.subplots(figsize=(15,15))\n",
    "    ax = sns.heatmap(corr, annot=True, cmap=sns.diverging_palette(220, 20, as_cmap=True), ax=ax); ax.set_title(\"Cramer V Correlation between Variables\");"
   ]
  },
  {
   "cell_type": "code",
   "execution_count": 36,
   "metadata": {},
   "outputs": [
    {
     "data": {
      "text/plain": [
       "Index(['Cloudy', 'Sunny', 'Snow', 'Rain', 'Indoor', 'Synthetic', 'Natural',\n",
       "       'Outdoor', 'Temperature', 'Position', 'Injury'],\n",
       "      dtype='object')"
      ]
     },
     "execution_count": 36,
     "metadata": {},
     "output_type": "execute_result"
    }
   ],
   "source": [
    "corr_df.keys()"
   ]
  },
  {
   "cell_type": "code",
   "execution_count": 37,
   "metadata": {
    "scrolled": true
   },
   "outputs": [
    {
     "name": "stderr",
     "output_type": "stream",
     "text": [
      "C:\\Users\\12104\\Anaconda3\\lib\\site-packages\\ipykernel_launcher.py:8: FutureWarning: Method .as_matrix will be removed in a future version. Use .values instead.\n",
      "  \n"
     ]
    },
    {
     "data": {
      "image/png": "[encoded data removed]",
      "text/plain": [
       "<Figure size 1080x1080 with 2 Axes>"
      ]
     },
     "metadata": {
      "needs_background": "light"
     },
     "output_type": "display_data"
    }
   ],
   "source": [
    "columns = ['Cloudy', 'Sunny', 'Snow', 'Rain', 'Indoor', 'Synthetic', 'Natural',\n",
    "       'Outdoor', 'Temperature', 'Injury']\n",
    "plot_cramers_v_heatmap(corr_df, columns)"
   ]
  },
  {
   "cell_type": "markdown",
   "metadata": {},
   "source": [
    "As far as correlation goes, theres nothing but hot garbage here."
   ]
  },
  {
   "cell_type": "code",
   "execution_count": 38,
   "metadata": {},
   "outputs": [],
   "source": [
    "play_injury_df_dummies = pd.get_dummies(corr_df,\\\n",
    "                                        columns = ['Position'], dummy_na = True, drop_first = True)\n",
    "play_injury_df_dummies = play_injury_df_dummies.drop(columns = ['Position_nan','Position_Missing Data'])"
   ]
  },
  {
   "cell_type": "code",
   "execution_count": 39,
   "metadata": {},
   "outputs": [],
   "source": [
    "columns = ['Position_CB', 'Position_DB',\n",
    "       'Position_DE', 'Position_DT', 'Position_FS', 'Position_G',\n",
    "       'Position_HB', 'Position_ILB', 'Position_K', 'Position_LB',\n",
    "       'Position_MLB', 'Position_NT', 'Position_OLB', 'Position_P',\n",
    "       'Position_QB', 'Position_RB', 'Position_S', 'Position_SS', 'Position_T',\n",
    "       'Position_TE', 'Position_WR','Injury']"
   ]
  },
  {
   "cell_type": "code",
   "execution_count": 40,
   "metadata": {},
   "outputs": [
    {
     "name": "stderr",
     "output_type": "stream",
     "text": [
      "C:\\Users\\12104\\Anaconda3\\lib\\site-packages\\ipykernel_launcher.py:8: FutureWarning: Method .as_matrix will be removed in a future version. Use .values instead.\n",
      "  \n"
     ]
    },
    {
     "data": {
      "image/png": "[encoded data removed]",
      "text/plain": [
       "<Figure size 1080x1080 with 2 Axes>"
      ]
     },
     "metadata": {
      "needs_background": "light"
     },
     "output_type": "display_data"
    }
   ],
   "source": [
    "plot_cramers_v_heatmap(play_injury_df_dummies, columns)"
   ]
  },
  {
   "cell_type": "markdown",
   "metadata": {},
   "source": [
    "And we continue to see no raw correlation between injury and any other feature. Lets Finally work on the last data farme\n"
   ]
  },
  {
   "cell_type": "markdown",
   "metadata": {},
   "source": [
    "We should run a simple ML model just to check up how our factors do. Adaboost seems to do well with lots of poorly correlated factors. Lets see how that works.\n",
    "\n",
    "One of the more complicated aspects of this data set is that there is heavy undersampling of injuries. I turn to Samuel Taylor, a data scientist at Indeed, for help on this. He gave a wonderful lecture that can be found at https://www.samueltaylor.org/articles/how-to-handle-class-imbalance.html on how to deal with class imbalance. I will be implementing some of these techniques in my work and see if any siginificant results occur. I'm also happy I get to use a techinque on a data set so recently after learning how to deal with this specific problem."
   ]
  },
  {
   "cell_type": "code",
   "execution_count": 41,
   "metadata": {},
   "outputs": [
    {
     "data": {
      "text/plain": [
       "0    5103\n",
       "1      97\n",
       "Name: Injury, dtype: int64"
      ]
     },
     "execution_count": 41,
     "metadata": {},
     "output_type": "execute_result"
    }
   ],
   "source": [
    "corr_df.Injury.value_counts()"
   ]
  },
  {
   "cell_type": "code",
   "execution_count": 42,
   "metadata": {},
   "outputs": [],
   "source": [
    "factors = corr_df.drop(columns = ['Injury','Position'])\n",
    "output = corr_df.Injury"
   ]
  },
  {
   "cell_type": "code",
   "execution_count": 43,
   "metadata": {},
   "outputs": [],
   "source": [
    "from sklearn.model_selection import train_test_split\n",
    "X_train, X_test, y_train, y_test = train_test_split(factors, output, test_size = 0.2, random_state = 42)"
   ]
  },
  {
   "cell_type": "code",
   "execution_count": 44,
   "metadata": {},
   "outputs": [
    {
     "data": {
      "text/plain": [
       "0    4089\n",
       "1      71\n",
       "Name: Injury, dtype: int64"
      ]
     },
     "execution_count": 44,
     "metadata": {},
     "output_type": "execute_result"
    }
   ],
   "source": [
    "# Just checking\n",
    "y_train.value_counts()"
   ]
  },
  {
   "cell_type": "code",
   "execution_count": 45,
   "metadata": {},
   "outputs": [
    {
     "data": {
      "text/plain": [
       "0    1014\n",
       "1      26\n",
       "Name: Injury, dtype: int64"
      ]
     },
     "execution_count": 45,
     "metadata": {},
     "output_type": "execute_result"
    }
   ],
   "source": [
    "y_test.value_counts()"
   ]
  },
  {
   "cell_type": "markdown",
   "metadata": {},
   "source": [
    "## Dummy Classifing Model\n",
    "We should make a dummy classifier. For a case such as this where the class imbalance is so large, predicting no injury for every data point probably creates a really good, but completely useless model. So I think we're going to have to meaure for the true positive predictions."
   ]
  },
  {
   "cell_type": "code",
   "execution_count": 46,
   "metadata": {
    "scrolled": false
   },
   "outputs": [
    {
     "name": "stdout",
     "output_type": "stream",
     "text": [
      "0.975\n"
     ]
    },
    {
     "name": "stderr",
     "output_type": "stream",
     "text": [
      "C:\\Users\\12104\\Anaconda3\\lib\\site-packages\\sklearn\\metrics\\_classification.py:1268: UndefinedMetricWarning: Precision and F-score are ill-defined and being set to 0.0 in labels with no predicted samples. Use `zero_division` parameter to control this behavior.\n",
      "  _warn_prf(average, modifier, msg_start, len(result))\n"
     ]
    },
    {
     "data": {
      "text/plain": [
       "(array([0.975, 0.   ]),\n",
       " array([1., 0.]),\n",
       " array([0.98734177, 0.        ]),\n",
       " array([1014,   26], dtype=int64))"
      ]
     },
     "execution_count": 46,
     "metadata": {},
     "output_type": "execute_result"
    }
   ],
   "source": [
    "from sklearn.dummy import DummyClassifier\n",
    "from sklearn.metrics import accuracy_score\n",
    "from sklearn.metrics import precision_recall_fscore_support\n",
    "dumb_model = DummyClassifier(strategy = 'most_frequent').fit(X_train,y_train)\n",
    "y_pred = dumb_model.predict(X_test)\n",
    "dumb_accuracy = accuracy_score(y_test, y_pred)\n",
    "precision = precision_recall_fscore_support(y_test, y_pred)\n",
    "print(dumb_accuracy)\n",
    "precision"
   ]
  },
  {
   "cell_type": "code",
   "execution_count": 47,
   "metadata": {},
   "outputs": [],
   "source": [
    "# The above array of arrays gives the following information in this order\n",
    "# Precision: TP/(TP+FP)\n",
    "# Recall: TP/(TP+FN)\n",
    "# F-1 Score: 2 *(P*R)/(P+R)\n",
    "# Total number of elements in our pred/test array"
   ]
  },
  {
   "cell_type": "markdown",
   "metadata": {},
   "source": [
    "# Real Model Time"
   ]
  },
  {
   "cell_type": "code",
   "execution_count": 48,
   "metadata": {},
   "outputs": [
    {
     "name": "stderr",
     "output_type": "stream",
     "text": [
      "C:\\Users\\12104\\Anaconda3\\lib\\site-packages\\sklearn\\metrics\\_classification.py:1268: UndefinedMetricWarning: Precision and F-score are ill-defined and being set to 0.0 in labels with no predicted samples. Use `zero_division` parameter to control this behavior.\n",
      "  _warn_prf(average, modifier, msg_start, len(result))\n"
     ]
    },
    {
     "data": {
      "text/plain": [
       "(array([0.975, 0.   ]),\n",
       " array([1., 0.]),\n",
       " array([0.98734177, 0.        ]),\n",
       " array([1014,   26], dtype=int64))"
      ]
     },
     "execution_count": 48,
     "metadata": {},
     "output_type": "execute_result"
    }
   ],
   "source": [
    "from sklearn.ensemble import AdaBoostClassifier\n",
    "from sklearn.metrics import accuracy_score\n",
    "from sklearn.metrics import average_precision_score\n",
    "clf = AdaBoostClassifier(n_estimators = 10, random_state = 0)\n",
    "clf.fit(X_train, y_train)\n",
    "y_pred = clf.predict(X_test)\n",
    "precision = precision_recall_fscore_support(y_test, y_pred)\n",
    "precision"
   ]
  },
  {
   "cell_type": "markdown",
   "metadata": {},
   "source": [
    "I freaked out about these results for a minute, but it makes sense. Both models predict the same thing which is that no one ever gets injured. But what I care more about is the true positive rate, so lets go for precision. \n",
    "\n",
    "Also, now we will attempt some oversampling techniques for class imbalance to see if we can get better results."
   ]
  },
  {
   "cell_type": "markdown",
   "metadata": {},
   "source": [
    "# Undersampling\n",
    "\n",
    "Real easy. Just sampling from the data set so that the class imbalance is no longer in place, but we have significantly reduced the total number of data points we had before. We are, however, keeping > 60 data points so that our conclusions hold some form of integrity."
   ]
  },
  {
   "cell_type": "code",
   "execution_count": 49,
   "metadata": {},
   "outputs": [],
   "source": [
    "factors = corr_df.drop(columns = ['Injury','Position'])\n",
    "output = corr_df.Injury"
   ]
  },
  {
   "cell_type": "code",
   "execution_count": 50,
   "metadata": {},
   "outputs": [
    {
     "name": "stderr",
     "output_type": "stream",
     "text": [
      "Using TensorFlow backend.\n"
     ]
    },
    {
     "name": "stdout",
     "output_type": "stream",
     "text": [
      "Resampled dataset shape Counter({0: 97, 1: 97})\n"
     ]
    }
   ],
   "source": [
    "from collections import Counter\n",
    "from imblearn.under_sampling import RandomUnderSampler\n",
    "rus = RandomUnderSampler(random_state=42)\n",
    "factors_res, output_res = rus.fit_resample(factors, output)\n",
    "print('Resampled dataset shape %s' % Counter(output_res))"
   ]
  },
  {
   "cell_type": "code",
   "execution_count": 51,
   "metadata": {},
   "outputs": [],
   "source": [
    "from sklearn.model_selection import train_test_split\n",
    "X_train, X_test, y_train, y_test = train_test_split(factors_res, output_res, test_size = 0.2, random_state = 42)"
   ]
  },
  {
   "cell_type": "code",
   "execution_count": 52,
   "metadata": {},
   "outputs": [
    {
     "data": {
      "text/plain": [
       "(array([0.61904762, 0.72222222]),\n",
       " array([0.72222222, 0.61904762]),\n",
       " array([0.66666667, 0.66666667]),\n",
       " array([18, 21], dtype=int64))"
      ]
     },
     "execution_count": 52,
     "metadata": {},
     "output_type": "execute_result"
    }
   ],
   "source": [
    "from sklearn.ensemble import AdaBoostClassifier\n",
    "from sklearn.metrics import accuracy_score\n",
    "from sklearn.metrics import average_precision_score\n",
    "clf = AdaBoostClassifier(n_estimators = 10, random_state = 0)\n",
    "clf.fit(X_train, y_train)\n",
    "y_pred = clf.predict(X_test)\n",
    "precision = precision_recall_fscore_support(y_test, y_pred)\n",
    "precision"
   ]
  },
  {
   "cell_type": "code",
   "execution_count": 53,
   "metadata": {},
   "outputs": [],
   "source": [
    "# There are more undersampling techniques to pursue in the future if it comes down to it. Reference:\n",
    "# https://towardsdatascience.com/sampling-techniques-for-extremely-imbalanced-data-part-i-under-sampling-a8dbc3d8d6d8"
   ]
  },
  {
   "cell_type": "markdown",
   "metadata": {},
   "source": [
    "# Oversampling:\n",
    "\n",
    "Three Methods:\n",
    "    - Random: Replicate data points of minority class\n",
    "    - SMOTE: Creates data points between minority class data points via clustering\n",
    "    - ADASYN: Similar process, but slightly different mathematical methodology"
   ]
  },
  {
   "cell_type": "markdown",
   "metadata": {},
   "source": [
    "Random:"
   ]
  },
  {
   "cell_type": "code",
   "execution_count": 54,
   "metadata": {},
   "outputs": [
    {
     "name": "stdout",
     "output_type": "stream",
     "text": [
      "Resampled dataset shape Counter({1: 5103, 0: 5103})\n"
     ]
    }
   ],
   "source": [
    "from collections import Counter\n",
    "from imblearn.over_sampling import RandomOverSampler\n",
    "ros = RandomOverSampler(random_state=42)\n",
    "factors_res, output_res = ros.fit_resample(factors, output)\n",
    "print('Resampled dataset shape %s' % Counter(output_res))\n",
    "from sklearn.model_selection import train_test_split\n",
    "X_train, X_test, y_train, y_test = train_test_split(factors_res, output_res, test_size = 0.2, random_state = 42)"
   ]
  },
  {
   "cell_type": "code",
   "execution_count": 55,
   "metadata": {},
   "outputs": [
    {
     "data": {
      "text/plain": [
       "(array([0.60350877, 0.57203033]),\n",
       " array([0.50390625, 0.66699411]),\n",
       " array([0.54922831, 0.61587302]),\n",
       " array([1024, 1018], dtype=int64))"
      ]
     },
     "execution_count": 55,
     "metadata": {},
     "output_type": "execute_result"
    }
   ],
   "source": [
    "from sklearn.ensemble import AdaBoostClassifier\n",
    "from sklearn.metrics import accuracy_score\n",
    "from sklearn.metrics import average_precision_score\n",
    "clf = AdaBoostClassifier(n_estimators = 10, random_state = 0)\n",
    "clf.fit(X_train, y_train)\n",
    "y_pred = clf.predict(X_test)\n",
    "precision = precision_recall_fscore_support(y_test, y_pred)\n",
    "precision"
   ]
  },
  {
   "cell_type": "markdown",
   "metadata": {},
   "source": [
    "SMOTE:"
   ]
  },
  {
   "cell_type": "code",
   "execution_count": 56,
   "metadata": {},
   "outputs": [],
   "source": [
    "from imblearn.over_sampling import SMOTE\n",
    "smote = SMOTE(random_state=42)\n",
    "factors_res, output_res = smote.fit_resample(factors, output)\n",
    "from sklearn.model_selection import train_test_split\n",
    "X_train, X_test, y_train, y_test = train_test_split(factors_res, output_res, test_size = 0.2, random_state = 42)"
   ]
  },
  {
   "cell_type": "code",
   "execution_count": 57,
   "metadata": {},
   "outputs": [
    {
     "data": {
      "text/plain": [
       "(array([0.71675127, 0.69914853]),\n",
       " array([0.68945312, 0.7259332 ]),\n",
       " array([0.70283723, 0.71228916]),\n",
       " array([1024, 1018], dtype=int64))"
      ]
     },
     "execution_count": 57,
     "metadata": {},
     "output_type": "execute_result"
    }
   ],
   "source": [
    "clf = AdaBoostClassifier(n_estimators = 10, random_state = 0)\n",
    "clf.fit(X_train, y_train)\n",
    "y_pred = clf.predict(X_test)\n",
    "precision = precision_recall_fscore_support(y_test, y_pred)\n",
    "precision"
   ]
  },
  {
   "cell_type": "markdown",
   "metadata": {},
   "source": [
    "ADASYN:"
   ]
  },
  {
   "cell_type": "code",
   "execution_count": 58,
   "metadata": {},
   "outputs": [],
   "source": [
    "from imblearn.over_sampling import ADASYN\n",
    "adasyn = ADASYN(random_state=42)\n",
    "factors_res, output_res = adasyn.fit_resample(factors, output)\n",
    "from sklearn.model_selection import train_test_split\n",
    "X_train, X_test, y_train, y_test = train_test_split(factors_res, output_res, test_size = 0.2, random_state = 42)"
   ]
  },
  {
   "cell_type": "code",
   "execution_count": 59,
   "metadata": {},
   "outputs": [
    {
     "data": {
      "text/plain": [
       "(array([0.72884615, 0.70746269]),\n",
       " array([0.72053232, 0.71601208]),\n",
       " array([0.72466539, 0.71171171]),\n",
       " array([1052,  993], dtype=int64))"
      ]
     },
     "execution_count": 59,
     "metadata": {},
     "output_type": "execute_result"
    }
   ],
   "source": [
    "clf = AdaBoostClassifier(n_estimators = 10, random_state = 0)\n",
    "clf.fit(X_train, y_train)\n",
    "y_pred = clf.predict(X_test)\n",
    "precision = precision_recall_fscore_support(y_test, y_pred)\n",
    "precision"
   ]
  },
  {
   "cell_type": "markdown",
   "metadata": {},
   "source": [
    "# The Inclusion of Movement"
   ]
  },
  {
   "cell_type": "code",
   "execution_count": 60,
   "metadata": {},
   "outputs": [
    {
     "data": {
      "text/plain": [
       "266960"
      ]
     },
     "execution_count": 60,
     "metadata": {},
     "output_type": "execute_result"
    }
   ],
   "source": [
    "# We'll work with the injury data set afterwards. It's just a big and intimidating data set for computation time. BUT will be\n",
    "# included in the final project.\n",
    "len(trk.PlayKey.unique())"
   ]
  },
  {
   "cell_type": "code",
   "execution_count": 61,
   "metadata": {
    "scrolled": true
   },
   "outputs": [
    {
     "data": {
      "text/html": [
       "<div>\n",
       "<style scoped>\n",
       "    .dataframe tbody tr th:only-of-type {\n",
       "        vertical-align: middle;\n",
       "    }\n",
       "\n",
       "    .dataframe tbody tr th {\n",
       "        vertical-align: top;\n",
       "    }\n",
       "\n",
       "    .dataframe thead th {\n",
       "        text-align: right;\n",
       "    }\n",
       "</style>\n",
       "<table border=\"1\" class=\"dataframe\">\n",
       "  <thead>\n",
       "    <tr style=\"text-align: right;\">\n",
       "      <th></th>\n",
       "      <th>PlayKey</th>\n",
       "      <th>time</th>\n",
       "      <th>event</th>\n",
       "      <th>x</th>\n",
       "      <th>y</th>\n",
       "      <th>dir</th>\n",
       "      <th>dis</th>\n",
       "      <th>o</th>\n",
       "      <th>s</th>\n",
       "    </tr>\n",
       "  </thead>\n",
       "  <tbody>\n",
       "    <tr>\n",
       "      <td>0</td>\n",
       "      <td>26624-1-1</td>\n",
       "      <td>0.0</td>\n",
       "      <td>huddle_start_offense</td>\n",
       "      <td>87.46</td>\n",
       "      <td>28.93</td>\n",
       "      <td>288.24</td>\n",
       "      <td>0.01</td>\n",
       "      <td>262.33</td>\n",
       "      <td>0.13</td>\n",
       "    </tr>\n",
       "    <tr>\n",
       "      <td>1</td>\n",
       "      <td>26624-1-1</td>\n",
       "      <td>0.1</td>\n",
       "      <td>NaN</td>\n",
       "      <td>87.45</td>\n",
       "      <td>28.92</td>\n",
       "      <td>283.91</td>\n",
       "      <td>0.01</td>\n",
       "      <td>261.69</td>\n",
       "      <td>0.12</td>\n",
       "    </tr>\n",
       "    <tr>\n",
       "      <td>2</td>\n",
       "      <td>26624-1-1</td>\n",
       "      <td>0.2</td>\n",
       "      <td>NaN</td>\n",
       "      <td>87.44</td>\n",
       "      <td>28.92</td>\n",
       "      <td>280.40</td>\n",
       "      <td>0.01</td>\n",
       "      <td>261.17</td>\n",
       "      <td>0.12</td>\n",
       "    </tr>\n",
       "    <tr>\n",
       "      <td>3</td>\n",
       "      <td>26624-1-1</td>\n",
       "      <td>0.3</td>\n",
       "      <td>NaN</td>\n",
       "      <td>87.44</td>\n",
       "      <td>28.92</td>\n",
       "      <td>278.79</td>\n",
       "      <td>0.01</td>\n",
       "      <td>260.66</td>\n",
       "      <td>0.10</td>\n",
       "    </tr>\n",
       "    <tr>\n",
       "      <td>4</td>\n",
       "      <td>26624-1-1</td>\n",
       "      <td>0.4</td>\n",
       "      <td>NaN</td>\n",
       "      <td>87.44</td>\n",
       "      <td>28.92</td>\n",
       "      <td>275.44</td>\n",
       "      <td>0.01</td>\n",
       "      <td>260.27</td>\n",
       "      <td>0.09</td>\n",
       "    </tr>\n",
       "  </tbody>\n",
       "</table>\n",
       "</div>"
      ],
      "text/plain": [
       "     PlayKey  time                 event      x      y     dir   dis       o  \\\n",
       "0  26624-1-1   0.0  huddle_start_offense  87.46  28.93  288.24  0.01  262.33   \n",
       "1  26624-1-1   0.1                   NaN  87.45  28.92  283.91  0.01  261.69   \n",
       "2  26624-1-1   0.2                   NaN  87.44  28.92  280.40  0.01  261.17   \n",
       "3  26624-1-1   0.3                   NaN  87.44  28.92  278.79  0.01  260.66   \n",
       "4  26624-1-1   0.4                   NaN  87.44  28.92  275.44  0.01  260.27   \n",
       "\n",
       "      s  \n",
       "0  0.13  \n",
       "1  0.12  \n",
       "2  0.12  \n",
       "3  0.10  \n",
       "4  0.09  "
      ]
     },
     "execution_count": 61,
     "metadata": {},
     "output_type": "execute_result"
    }
   ],
   "source": [
    "trk.head()"
   ]
  },
  {
   "cell_type": "code",
   "execution_count": 62,
   "metadata": {},
   "outputs": [],
   "source": [
    "# Want to do some preliminary testing and aking the data frame smaller will help with computational time\n"
   ]
  },
  {
   "cell_type": "code",
   "execution_count": 63,
   "metadata": {},
   "outputs": [],
   "source": [
    "mini = trk.loc[trk.PlayKey == '26624-1-1']"
   ]
  },
  {
   "cell_type": "code",
   "execution_count": 64,
   "metadata": {},
   "outputs": [],
   "source": [
    "# I am going to model the arrows in my chart like the ones I found from a fellow Kaggle Competitor\n",
    "# https://www.kaggle.com/robikscube/nfl-1st-and-future-analytics-intro"
   ]
  },
  {
   "cell_type": "code",
   "execution_count": 65,
   "metadata": {},
   "outputs": [
    {
     "data": {
      "image/png": "[encoded data removed]",
      "text/plain": [
       "<Figure size 1080x720 with 6 Axes>"
      ]
     },
     "metadata": {
      "needs_background": "light"
     },
     "output_type": "display_data"
    }
   ],
   "source": [
    "inj_detailed = inj.merge(playlist)\n",
    "# Only care about the players that were injured and of those, only 77 Play Keys were available \n",
    "def compass(angles, radii, arrowprops=None, ax=None):\n",
    "    if ax is None:\n",
    "        fig, ax = plt.subplots(subplot_kw=dict(polar=True))\n",
    "\n",
    "    kw = dict(arrowstyle=\"->\", color='k')\n",
    "    if arrowprops:\n",
    "        kw.update(arrowprops)\n",
    "    [ax.annotate(\"\", xy=(angle, radius), xytext=(0, 0),\n",
    "                 arrowprops=kw) for\n",
    "     angle, radius in zip(angles, radii)]\n",
    "\n",
    "    ax.set_ylim(0, np.max(radii))\n",
    "\n",
    "    return ax\n",
    "def compass(angles, radii, arrowprops=None, ax=None):\n",
    "    \"\"\"\n",
    "    * Modified for NFL data plotting\n",
    "    Compass draws a graph that displays the vectors with\n",
    "    components `u` and `v` as arrows from the origin.\n",
    "\n",
    "    Examples\n",
    "    --------\n",
    "    >>> import numpy as np\n",
    "    >>> u = [+0, +0.5, -0.50, -0.90]\n",
    "    >>> v = [+1, +0.5, -0.45, +0.85]\n",
    "    >>> compass(u, v)\n",
    "    \"\"\"\n",
    "\n",
    "    #angles, radii = cart2pol(u, v)\n",
    "    if ax is None:\n",
    "        fig, ax = plt.subplots(subplot_kw=dict(polar=True))\n",
    "\n",
    "    kw = dict(arrowstyle=\"->\", color='k')\n",
    "    if arrowprops:\n",
    "        kw.update(arrowprops)\n",
    "    [ax.annotate(\"\", xy=(angle, radius), xytext=(0, 0),\n",
    "                 arrowprops=kw) for\n",
    "     angle, radius in zip(angles, radii)]\n",
    "\n",
    "    ax.set_ylim(0, np.max(radii))\n",
    "\n",
    "    return ax\n",
    "\n",
    "def plot_play_compass(playkey, **kwargs):\n",
    "    d = trk.loc[trk['PlayKey'] == playkey].copy()\n",
    "    d['dir_theta'] = d['dir'] * np.pi / 180\n",
    "    # Calculate velocity in meters per second\n",
    "    d['dis_meters'] = d['dis'] / 1.0936  # Add distance in meters\n",
    "    # Speed\n",
    "    d['dis_meters'] / 0.01\n",
    "    d['v_mps'] = d['dis_meters'] / 0.1\n",
    "\n",
    "    ax = compass(d['dir_theta'], d['v_mps'],\n",
    "                  arrowprops={'alpha': 0.3},\n",
    "                **kwargs)\n",
    "    return ax\n",
    "fig, axes = plt.subplots(2, 3,  subplot_kw=dict(polar=True), figsize=(15, 10))\n",
    "axes = np.array(axes)\n",
    "axes = axes.reshape(-1)\n",
    "\n",
    "i = 0\n",
    "for p in inj_detailed['PlayKey'].values[:6]:\n",
    "    plot_play_compass(p, ax=axes[i])\n",
    "    axes[i].set_title(f'PlayKey: {p}')\n",
    "    i += 1\n",
    "plt.show()"
   ]
  },
  {
   "cell_type": "code",
   "execution_count": 66,
   "metadata": {
    "scrolled": true
   },
   "outputs": [],
   "source": [
    "# Just kind of a cool thing to see, but lets move on to merging data frames in such a way that we can utilize all the info given\n"
   ]
  },
  {
   "cell_type": "markdown",
   "metadata": {},
   "source": [
    "## Big Daddy Model Time\n",
    "Now that I have plenty of graphical information, have identified errors in the data, and extracted plenty of features via dummies, I want to see if I can create a better model than before and see if the player tracking data set even provides any useful insights"
   ]
  },
  {
   "cell_type": "markdown",
   "metadata": {},
   "source": [
    "First to make the master dataframe. An issue that arises is that only 77 of the plays that resulted in injury had their plays recorded. Going to have to solve this issue somehow."
   ]
  },
  {
   "cell_type": "markdown",
   "metadata": {},
   "source": [
    "The solution seems to be to create 2 seperate data sets, otherwise I risk misclassifing a play and, with as small a set of injuries as I have, it could have a large impact on the results."
   ]
  },
  {
   "cell_type": "code",
   "execution_count": 67,
   "metadata": {
    "scrolled": true
   },
   "outputs": [
    {
     "data": {
      "text/html": [
       "<div>\n",
       "<style scoped>\n",
       "    .dataframe tbody tr th:only-of-type {\n",
       "        vertical-align: middle;\n",
       "    }\n",
       "\n",
       "    .dataframe tbody tr th {\n",
       "        vertical-align: top;\n",
       "    }\n",
       "\n",
       "    .dataframe thead th {\n",
       "        text-align: right;\n",
       "    }\n",
       "</style>\n",
       "<table border=\"1\" class=\"dataframe\">\n",
       "  <thead>\n",
       "    <tr style=\"text-align: right;\">\n",
       "      <th></th>\n",
       "      <th>Cloudy</th>\n",
       "      <th>Sunny</th>\n",
       "      <th>Snow</th>\n",
       "      <th>Rain</th>\n",
       "      <th>Indoor</th>\n",
       "      <th>Synthetic</th>\n",
       "      <th>Natural</th>\n",
       "      <th>Outdoor</th>\n",
       "      <th>Temperature</th>\n",
       "      <th>Injury</th>\n",
       "      <th>...</th>\n",
       "      <th>Position_NT</th>\n",
       "      <th>Position_OLB</th>\n",
       "      <th>Position_P</th>\n",
       "      <th>Position_QB</th>\n",
       "      <th>Position_RB</th>\n",
       "      <th>Position_S</th>\n",
       "      <th>Position_SS</th>\n",
       "      <th>Position_T</th>\n",
       "      <th>Position_TE</th>\n",
       "      <th>Position_WR</th>\n",
       "    </tr>\n",
       "  </thead>\n",
       "  <tbody>\n",
       "    <tr>\n",
       "      <td>0</td>\n",
       "      <td>True</td>\n",
       "      <td>False</td>\n",
       "      <td>False</td>\n",
       "      <td>False</td>\n",
       "      <td>True</td>\n",
       "      <td>True</td>\n",
       "      <td>False</td>\n",
       "      <td>False</td>\n",
       "      <td>84</td>\n",
       "      <td>1</td>\n",
       "      <td>...</td>\n",
       "      <td>0</td>\n",
       "      <td>1</td>\n",
       "      <td>0</td>\n",
       "      <td>0</td>\n",
       "      <td>0</td>\n",
       "      <td>0</td>\n",
       "      <td>0</td>\n",
       "      <td>0</td>\n",
       "      <td>0</td>\n",
       "      <td>0</td>\n",
       "    </tr>\n",
       "    <tr>\n",
       "      <td>1</td>\n",
       "      <td>True</td>\n",
       "      <td>False</td>\n",
       "      <td>False</td>\n",
       "      <td>False</td>\n",
       "      <td>False</td>\n",
       "      <td>False</td>\n",
       "      <td>True</td>\n",
       "      <td>True</td>\n",
       "      <td>76</td>\n",
       "      <td>1</td>\n",
       "      <td>...</td>\n",
       "      <td>0</td>\n",
       "      <td>1</td>\n",
       "      <td>0</td>\n",
       "      <td>0</td>\n",
       "      <td>0</td>\n",
       "      <td>0</td>\n",
       "      <td>0</td>\n",
       "      <td>0</td>\n",
       "      <td>0</td>\n",
       "      <td>0</td>\n",
       "    </tr>\n",
       "    <tr>\n",
       "      <td>2</td>\n",
       "      <td>False</td>\n",
       "      <td>True</td>\n",
       "      <td>False</td>\n",
       "      <td>False</td>\n",
       "      <td>False</td>\n",
       "      <td>True</td>\n",
       "      <td>False</td>\n",
       "      <td>True</td>\n",
       "      <td>63</td>\n",
       "      <td>1</td>\n",
       "      <td>...</td>\n",
       "      <td>0</td>\n",
       "      <td>0</td>\n",
       "      <td>0</td>\n",
       "      <td>0</td>\n",
       "      <td>0</td>\n",
       "      <td>0</td>\n",
       "      <td>1</td>\n",
       "      <td>0</td>\n",
       "      <td>0</td>\n",
       "      <td>0</td>\n",
       "    </tr>\n",
       "    <tr>\n",
       "      <td>3</td>\n",
       "      <td>True</td>\n",
       "      <td>False</td>\n",
       "      <td>False</td>\n",
       "      <td>False</td>\n",
       "      <td>False</td>\n",
       "      <td>False</td>\n",
       "      <td>True</td>\n",
       "      <td>True</td>\n",
       "      <td>80</td>\n",
       "      <td>1</td>\n",
       "      <td>...</td>\n",
       "      <td>0</td>\n",
       "      <td>0</td>\n",
       "      <td>0</td>\n",
       "      <td>0</td>\n",
       "      <td>0</td>\n",
       "      <td>0</td>\n",
       "      <td>0</td>\n",
       "      <td>0</td>\n",
       "      <td>0</td>\n",
       "      <td>0</td>\n",
       "    </tr>\n",
       "    <tr>\n",
       "      <td>4</td>\n",
       "      <td>True</td>\n",
       "      <td>False</td>\n",
       "      <td>False</td>\n",
       "      <td>False</td>\n",
       "      <td>False</td>\n",
       "      <td>True</td>\n",
       "      <td>False</td>\n",
       "      <td>False</td>\n",
       "      <td>89</td>\n",
       "      <td>1</td>\n",
       "      <td>...</td>\n",
       "      <td>0</td>\n",
       "      <td>0</td>\n",
       "      <td>0</td>\n",
       "      <td>0</td>\n",
       "      <td>0</td>\n",
       "      <td>0</td>\n",
       "      <td>0</td>\n",
       "      <td>0</td>\n",
       "      <td>0</td>\n",
       "      <td>1</td>\n",
       "    </tr>\n",
       "    <tr>\n",
       "      <td>...</td>\n",
       "      <td>...</td>\n",
       "      <td>...</td>\n",
       "      <td>...</td>\n",
       "      <td>...</td>\n",
       "      <td>...</td>\n",
       "      <td>...</td>\n",
       "      <td>...</td>\n",
       "      <td>...</td>\n",
       "      <td>...</td>\n",
       "      <td>...</td>\n",
       "      <td>...</td>\n",
       "      <td>...</td>\n",
       "      <td>...</td>\n",
       "      <td>...</td>\n",
       "      <td>...</td>\n",
       "      <td>...</td>\n",
       "      <td>...</td>\n",
       "      <td>...</td>\n",
       "      <td>...</td>\n",
       "      <td>...</td>\n",
       "      <td>...</td>\n",
       "    </tr>\n",
       "    <tr>\n",
       "      <td>5737</td>\n",
       "      <td>True</td>\n",
       "      <td>False</td>\n",
       "      <td>False</td>\n",
       "      <td>False</td>\n",
       "      <td>False</td>\n",
       "      <td>True</td>\n",
       "      <td>False</td>\n",
       "      <td>True</td>\n",
       "      <td>53</td>\n",
       "      <td>0</td>\n",
       "      <td>...</td>\n",
       "      <td>0</td>\n",
       "      <td>0</td>\n",
       "      <td>0</td>\n",
       "      <td>0</td>\n",
       "      <td>0</td>\n",
       "      <td>0</td>\n",
       "      <td>0</td>\n",
       "      <td>0</td>\n",
       "      <td>0</td>\n",
       "      <td>0</td>\n",
       "    </tr>\n",
       "    <tr>\n",
       "      <td>5738</td>\n",
       "      <td>True</td>\n",
       "      <td>False</td>\n",
       "      <td>False</td>\n",
       "      <td>False</td>\n",
       "      <td>False</td>\n",
       "      <td>False</td>\n",
       "      <td>True</td>\n",
       "      <td>True</td>\n",
       "      <td>82</td>\n",
       "      <td>0</td>\n",
       "      <td>...</td>\n",
       "      <td>0</td>\n",
       "      <td>0</td>\n",
       "      <td>0</td>\n",
       "      <td>0</td>\n",
       "      <td>0</td>\n",
       "      <td>0</td>\n",
       "      <td>0</td>\n",
       "      <td>0</td>\n",
       "      <td>0</td>\n",
       "      <td>0</td>\n",
       "    </tr>\n",
       "    <tr>\n",
       "      <td>5739</td>\n",
       "      <td>True</td>\n",
       "      <td>False</td>\n",
       "      <td>False</td>\n",
       "      <td>False</td>\n",
       "      <td>False</td>\n",
       "      <td>False</td>\n",
       "      <td>True</td>\n",
       "      <td>True</td>\n",
       "      <td>42</td>\n",
       "      <td>0</td>\n",
       "      <td>...</td>\n",
       "      <td>0</td>\n",
       "      <td>0</td>\n",
       "      <td>0</td>\n",
       "      <td>0</td>\n",
       "      <td>0</td>\n",
       "      <td>0</td>\n",
       "      <td>0</td>\n",
       "      <td>0</td>\n",
       "      <td>0</td>\n",
       "      <td>0</td>\n",
       "    </tr>\n",
       "    <tr>\n",
       "      <td>5740</td>\n",
       "      <td>False</td>\n",
       "      <td>True</td>\n",
       "      <td>False</td>\n",
       "      <td>False</td>\n",
       "      <td>False</td>\n",
       "      <td>True</td>\n",
       "      <td>False</td>\n",
       "      <td>True</td>\n",
       "      <td>40</td>\n",
       "      <td>0</td>\n",
       "      <td>...</td>\n",
       "      <td>0</td>\n",
       "      <td>0</td>\n",
       "      <td>0</td>\n",
       "      <td>0</td>\n",
       "      <td>0</td>\n",
       "      <td>0</td>\n",
       "      <td>0</td>\n",
       "      <td>0</td>\n",
       "      <td>0</td>\n",
       "      <td>0</td>\n",
       "    </tr>\n",
       "    <tr>\n",
       "      <td>5741</td>\n",
       "      <td>False</td>\n",
       "      <td>True</td>\n",
       "      <td>False</td>\n",
       "      <td>False</td>\n",
       "      <td>False</td>\n",
       "      <td>True</td>\n",
       "      <td>False</td>\n",
       "      <td>True</td>\n",
       "      <td>33</td>\n",
       "      <td>0</td>\n",
       "      <td>...</td>\n",
       "      <td>0</td>\n",
       "      <td>0</td>\n",
       "      <td>0</td>\n",
       "      <td>0</td>\n",
       "      <td>0</td>\n",
       "      <td>0</td>\n",
       "      <td>0</td>\n",
       "      <td>0</td>\n",
       "      <td>0</td>\n",
       "      <td>0</td>\n",
       "    </tr>\n",
       "  </tbody>\n",
       "</table>\n",
       "<p>5200 rows × 31 columns</p>\n",
       "</div>"
      ],
      "text/plain": [
       "      Cloudy  Sunny   Snow   Rain  Indoor  Synthetic  Natural  Outdoor  \\\n",
       "0       True  False  False  False    True       True    False    False   \n",
       "1       True  False  False  False   False      False     True     True   \n",
       "2      False   True  False  False   False       True    False     True   \n",
       "3       True  False  False  False   False      False     True     True   \n",
       "4       True  False  False  False   False       True    False    False   \n",
       "...      ...    ...    ...    ...     ...        ...      ...      ...   \n",
       "5737    True  False  False  False   False       True    False     True   \n",
       "5738    True  False  False  False   False      False     True     True   \n",
       "5739    True  False  False  False   False      False     True     True   \n",
       "5740   False   True  False  False   False       True    False     True   \n",
       "5741   False   True  False  False   False       True    False     True   \n",
       "\n",
       "      Temperature  Injury  ...  Position_NT  Position_OLB  Position_P  \\\n",
       "0              84       1  ...            0             1           0   \n",
       "1              76       1  ...            0             1           0   \n",
       "2              63       1  ...            0             0           0   \n",
       "3              80       1  ...            0             0           0   \n",
       "4              89       1  ...            0             0           0   \n",
       "...           ...     ...  ...          ...           ...         ...   \n",
       "5737           53       0  ...            0             0           0   \n",
       "5738           82       0  ...            0             0           0   \n",
       "5739           42       0  ...            0             0           0   \n",
       "5740           40       0  ...            0             0           0   \n",
       "5741           33       0  ...            0             0           0   \n",
       "\n",
       "      Position_QB  Position_RB  Position_S  Position_SS  Position_T  \\\n",
       "0               0            0           0            0           0   \n",
       "1               0            0           0            0           0   \n",
       "2               0            0           0            1           0   \n",
       "3               0            0           0            0           0   \n",
       "4               0            0           0            0           0   \n",
       "...           ...          ...         ...          ...         ...   \n",
       "5737            0            0           0            0           0   \n",
       "5738            0            0           0            0           0   \n",
       "5739            0            0           0            0           0   \n",
       "5740            0            0           0            0           0   \n",
       "5741            0            0           0            0           0   \n",
       "\n",
       "      Position_TE  Position_WR  \n",
       "0               0            0  \n",
       "1               0            0  \n",
       "2               0            0  \n",
       "3               0            0  \n",
       "4               0            1  \n",
       "...           ...          ...  \n",
       "5737            0            0  \n",
       "5738            0            0  \n",
       "5739            0            0  \n",
       "5740            0            0  \n",
       "5741            0            0  \n",
       "\n",
       "[5200 rows x 31 columns]"
      ]
     },
     "execution_count": 67,
     "metadata": {},
     "output_type": "execute_result"
    }
   ],
   "source": [
    "# Combination of playlist and inj data sets\n",
    "master_df_1 = corr_df.copy()\n",
    "master_df_1 = pd.get_dummies(corr_df, columns = ['Position'], dummy_na = True, drop_first = True)\n",
    "master_df_1 = master_df_1.drop(columns = ['Position_nan','Position_Missing Data'])\n",
    "master_df_1"
   ]
  },
  {
   "cell_type": "markdown",
   "metadata": {},
   "source": [
    "Now I will use a mix of libraries Stratified K-Fold and imbalance-learn to evently distribute our injuries into the sample and test set and to balance out the class imbalance. DO NOT FORGET TO NORMALIZE."
   ]
  },
  {
   "cell_type": "code",
   "execution_count": 68,
   "metadata": {},
   "outputs": [],
   "source": [
    "from sklearn import preprocessing\n",
    "factors = master_df_1.drop(columns = ['Injury'])\n",
    "#factors = preprocessing.normalize(factors)\n",
    "output = master_df_1.Injury"
   ]
  },
  {
   "cell_type": "code",
   "execution_count": 69,
   "metadata": {},
   "outputs": [
    {
     "data": {
      "text/plain": [
       "0       1\n",
       "1       1\n",
       "2       1\n",
       "3       1\n",
       "4       1\n",
       "       ..\n",
       "5737    0\n",
       "5738    0\n",
       "5739    0\n",
       "5740    0\n",
       "5741    0\n",
       "Name: Injury, Length: 5200, dtype: int32"
      ]
     },
     "execution_count": 69,
     "metadata": {},
     "output_type": "execute_result"
    }
   ],
   "source": [
    "output"
   ]
  },
  {
   "cell_type": "code",
   "execution_count": 70,
   "metadata": {
    "scrolled": true
   },
   "outputs": [],
   "source": [
    "# Evenly distribute injuries into train and test data sets\n",
    "from sklearn.model_selection import StratifiedKFold\n",
    "skf = StratifiedKFold( n_splits=2, shuffle = True)\n",
    "\n",
    "for train_index, test_index in skf.split(factors,output):\n",
    "    X_train, X_test = factors.iloc[train_index], factors.iloc[test_index]\n",
    "    y_train, y_test = output.iloc[train_index], output.iloc[test_index]    \n",
    "X_train = sklearn.preprocessing.normalize(X_train)\n",
    "X_test = sklearn.preprocessing.normalize(X_test)\n"
   ]
  },
  {
   "cell_type": "markdown",
   "metadata": {},
   "source": [
    "GOT IT! We apply the resampling to the training set and then test our conclusions to the test set. That is how we apply our resampling method appropriately and see how our model sizes up to the real data set!"
   ]
  },
  {
   "cell_type": "markdown",
   "metadata": {},
   "source": [
    "# Undersampler:"
   ]
  },
  {
   "cell_type": "code",
   "execution_count": 71,
   "metadata": {},
   "outputs": [
    {
     "name": "stdout",
     "output_type": "stream",
     "text": [
      "Resampled dataset shape Counter({0: 49, 1: 49})\n"
     ]
    }
   ],
   "source": [
    "from collections import Counter\n",
    "from imblearn.under_sampling import RandomUnderSampler\n",
    "rus = RandomUnderSampler(random_state=42)\n",
    "factors_res, output_res = rus.fit_resample(X_train, y_train)\n",
    "print('Resampled dataset shape %s' % Counter(output_res))"
   ]
  },
  {
   "cell_type": "code",
   "execution_count": 72,
   "metadata": {},
   "outputs": [
    {
     "data": {
      "text/plain": [
       "(array([0.98062593, 0.01748808]),\n",
       " array([0.51567398, 0.45833333]),\n",
       " array([0.67591166, 0.03369066]),\n",
       " array([2552,   48], dtype=int64))"
      ]
     },
     "execution_count": 72,
     "metadata": {},
     "output_type": "execute_result"
    }
   ],
   "source": [
    "from sklearn.ensemble import AdaBoostClassifier\n",
    "from sklearn.metrics import accuracy_score\n",
    "from sklearn.metrics import average_precision_score\n",
    "clf = AdaBoostClassifier(n_estimators = 10, random_state = 0)\n",
    "clf.fit(factors_res, output_res)\n",
    "y_pred = clf.predict(X_test)\n",
    "precision = precision_recall_fscore_support(y_test, y_pred)\n",
    "precision"
   ]
  },
  {
   "cell_type": "markdown",
   "metadata": {},
   "source": [
    "# Oversampling:"
   ]
  },
  {
   "cell_type": "markdown",
   "metadata": {},
   "source": [
    "## Rando:"
   ]
  },
  {
   "cell_type": "code",
   "execution_count": 73,
   "metadata": {},
   "outputs": [],
   "source": [
    "ros = RandomOverSampler(random_state=42)\n",
    "factors_res, output_res = ros.fit_resample(X_train, y_train)"
   ]
  },
  {
   "cell_type": "code",
   "execution_count": 74,
   "metadata": {},
   "outputs": [
    {
     "data": {
      "text/plain": [
       "(array([0.9877451 , 0.02398256]),\n",
       " array([0.47374608, 0.6875    ]),\n",
       " array([0.64036017, 0.04634831]),\n",
       " array([2552,   48], dtype=int64))"
      ]
     },
     "execution_count": 74,
     "metadata": {},
     "output_type": "execute_result"
    }
   ],
   "source": [
    "from sklearn.ensemble import AdaBoostClassifier\n",
    "from sklearn.metrics import accuracy_score\n",
    "from sklearn.metrics import average_precision_score\n",
    "clf = AdaBoostClassifier(n_estimators = 10, random_state = 0)\n",
    "clf.fit(factors_res, output_res)\n",
    "y_pred = clf.predict(X_test)\n",
    "precision = precision_recall_fscore_support(y_test, y_pred)\n",
    "precision"
   ]
  },
  {
   "cell_type": "markdown",
   "metadata": {},
   "source": [
    "## SMOTE:"
   ]
  },
  {
   "cell_type": "code",
   "execution_count": 75,
   "metadata": {},
   "outputs": [],
   "source": [
    "smote = SMOTE(random_state=42)\n",
    "factors_res, output_res = smote.fit_resample(X_train, y_train)"
   ]
  },
  {
   "cell_type": "code",
   "execution_count": 76,
   "metadata": {},
   "outputs": [
    {
     "data": {
      "text/plain": [
       "(array([0.98359865, 0.02656546]),\n",
       " array([0.79898119, 0.29166667]),\n",
       " array([0.88172973, 0.04869565]),\n",
       " array([2552,   48], dtype=int64))"
      ]
     },
     "execution_count": 76,
     "metadata": {},
     "output_type": "execute_result"
    }
   ],
   "source": [
    "from sklearn.ensemble import AdaBoostClassifier\n",
    "from sklearn.metrics import accuracy_score\n",
    "from sklearn.metrics import average_precision_score\n",
    "clf = AdaBoostClassifier(n_estimators = 10, random_state = 0)\n",
    "clf.fit(factors_res, output_res)\n",
    "y_pred = clf.predict(X_test)\n",
    "precision = precision_recall_fscore_support(y_test, y_pred)\n",
    "precision"
   ]
  },
  {
   "cell_type": "markdown",
   "metadata": {},
   "source": [
    "## ADASYN:"
   ]
  },
  {
   "cell_type": "code",
   "execution_count": 77,
   "metadata": {},
   "outputs": [],
   "source": [
    "adasyn = ADASYN(random_state=42)\n",
    "factors_res, output_res = adasyn.fit_resample(X_train, y_train)"
   ]
  },
  {
   "cell_type": "code",
   "execution_count": 78,
   "metadata": {},
   "outputs": [
    {
     "data": {
      "text/plain": [
       "(array([0.98628049, 0.03322785]),\n",
       " array([0.76057994, 0.4375    ]),\n",
       " array([0.85884956, 0.06176471]),\n",
       " array([2552,   48], dtype=int64))"
      ]
     },
     "execution_count": 78,
     "metadata": {},
     "output_type": "execute_result"
    }
   ],
   "source": [
    "from sklearn.ensemble import AdaBoostClassifier\n",
    "from sklearn.metrics import accuracy_score\n",
    "from sklearn.metrics import average_precision_score\n",
    "clf = AdaBoostClassifier(n_estimators = 10, random_state = 0)\n",
    "clf.fit(factors_res, output_res)\n",
    "y_pred = clf.predict(X_test)\n",
    "precision = precision_recall_fscore_support(y_test, y_pred)\n",
    "precision"
   ]
  },
  {
   "cell_type": "markdown",
   "metadata": {},
   "source": [
    "Adasyn does the best out of the three oversampling methods and better than the undersampling. I will investigate further by sampling 5 different ML methods and see which one performs best, then parameter tune that model."
   ]
  },
  {
   "cell_type": "code",
   "execution_count": 80,
   "metadata": {},
   "outputs": [
    {
     "data": {
      "text/plain": [
       "(array([0.98153242, 0.01818182]),\n",
       " array([0.97884013, 0.02083333]),\n",
       " array([0.98018442, 0.01941748]),\n",
       " array([2552,   48], dtype=int64))"
      ]
     },
     "execution_count": 80,
     "metadata": {},
     "output_type": "execute_result"
    }
   ],
   "source": [
    "from sklearn.ensemble import RandomForestClassifier\n",
    "clf = RandomForestClassifier()\n",
    "clf.fit(factors_res, output_res)\n",
    "y_pred = clf.predict(X_test)\n",
    "precision = precision_recall_fscore_support(y_test, y_pred)\n",
    "precision"
   ]
  },
  {
   "cell_type": "code",
   "execution_count": 81,
   "metadata": {},
   "outputs": [
    {
     "data": {
      "text/plain": [
       "(array([0.98101266, 0.        ]),\n",
       " array([0.97178683, 0.        ]),\n",
       " array([0.97637795, 0.        ]),\n",
       " array([2552,   48], dtype=int64))"
      ]
     },
     "execution_count": 81,
     "metadata": {},
     "output_type": "execute_result"
    }
   ],
   "source": [
    "from sklearn.tree import DecisionTreeClassifier\n",
    "clf = DecisionTreeClassifier()\n",
    "clf.fit(factors_res, output_res)\n",
    "y_pred = clf.predict(X_test)\n",
    "precision = precision_recall_fscore_support(y_test, y_pred)\n",
    "precision"
   ]
  },
  {
   "cell_type": "code",
   "execution_count": 84,
   "metadata": {},
   "outputs": [
    {
     "data": {
      "text/plain": [
       "(array([0.98197837, 0.02912621]),\n",
       " array([0.96081505, 0.0625    ]),\n",
       " array([0.97128144, 0.0397351 ]),\n",
       " array([2552,   48], dtype=int64))"
      ]
     },
     "execution_count": 84,
     "metadata": {},
     "output_type": "execute_result"
    }
   ],
   "source": [
    "from sklearn.ensemble import GradientBoostingClassifier\n",
    "clf = GradientBoostingClassifier()\n",
    "clf.fit(factors_res, output_res)\n",
    "y_pred = clf.predict(X_test)\n",
    "precision = precision_recall_fscore_support(y_test, y_pred)\n",
    "precision"
   ]
  },
  {
   "cell_type": "code",
   "execution_count": 88,
   "metadata": {},
   "outputs": [
    {
     "data": {
      "text/plain": [
       "(array([0.98324742, 0.02099237]),\n",
       " array([0.59796238, 0.45833333]),\n",
       " array([0.74366472, 0.04014599]),\n",
       " array([2552,   48], dtype=int64))"
      ]
     },
     "execution_count": 88,
     "metadata": {},
     "output_type": "execute_result"
    }
   ],
   "source": [
    "from sklearn.linear_model import LogisticRegression\n",
    "clf = LogisticRegression()\n",
    "clf.fit(factors_res, output_res)\n",
    "y_pred = clf.predict(X_test)\n",
    "precision = precision_recall_fscore_support(y_test, y_pred)\n",
    "precision"
   ]
  },
  {
   "cell_type": "markdown",
   "metadata": {},
   "source": [
    "Out of the box, logistic regression and adaboost did about the same. They both seem worth tuning, so I'll do just that."
   ]
  },
  {
   "cell_type": "markdown",
   "metadata": {},
   "source": [
    "## Hyperparameter Tuning"
   ]
  },
  {
   "cell_type": "code",
   "execution_count": 120,
   "metadata": {},
   "outputs": [
    {
     "name": "stdout",
     "output_type": "stream",
     "text": [
      "n_est =  1  l_rate =  1\n",
      "[0.98628049 0.03322785]\n",
      "[0.76057994 0.4375    ]\n",
      "[0.85884956 0.06176471]\n",
      " \n",
      "n_est =  1  l_rate =  2\n",
      "[0.98151333 0.01824818]\n",
      "[0.89459248 0.10416667]\n",
      "[0.93603936 0.0310559 ]\n",
      " \n",
      "n_est =  1  l_rate =  5\n",
      "[0.97807309 0.01369863]\n",
      "[0.57680251 0.3125    ]\n",
      "[0.72565935 0.02624672]\n",
      " \n",
      "n_est =  1  l_rate =  7\n",
      "[0.         0.01846154]\n",
      "[0. 1.]\n",
      "[0.         0.03625378]\n",
      " \n",
      "n_est =  1  l_rate =  10\n",
      "[0.         0.01846154]\n",
      "[0. 1.]\n",
      "[0.         0.03625378]\n",
      " \n",
      "n_est =  2  l_rate =  1\n",
      "[0.98628049 0.03322785]\n",
      "[0.76057994 0.4375    ]\n",
      "[0.85884956 0.06176471]\n",
      " \n",
      "n_est =  2  l_rate =  2\n",
      "[0.98151333 0.01824818]\n",
      "[0.89459248 0.10416667]\n",
      "[0.93603936 0.0310559 ]\n",
      " \n",
      "n_est =  2  l_rate =  5\n",
      "[0.97807309 0.01369863]\n",
      "[0.57680251 0.3125    ]\n",
      "[0.72565935 0.02624672]\n",
      " \n",
      "n_est =  2  l_rate =  7\n",
      "[0.         0.01846154]\n",
      "[0. 1.]\n",
      "[0.         0.03625378]\n",
      " \n",
      "n_est =  2  l_rate =  10\n",
      "[0.         0.01846154]\n",
      "[0. 1.]\n",
      "[0.         0.03625378]\n",
      " \n",
      "n_est =  5  l_rate =  1\n",
      "[0.98628049 0.03322785]\n",
      "[0.76057994 0.4375    ]\n",
      "[0.85884956 0.06176471]\n",
      " \n",
      "n_est =  5  l_rate =  2\n",
      "[0.98151333 0.01824818]\n",
      "[0.89459248 0.10416667]\n",
      "[0.93603936 0.0310559 ]\n",
      " \n",
      "n_est =  5  l_rate =  5\n",
      "[0.97807309 0.01369863]\n",
      "[0.57680251 0.3125    ]\n",
      "[0.72565935 0.02624672]\n",
      " \n",
      "n_est =  5  l_rate =  7\n",
      "[0.         0.01846154]\n",
      "[0. 1.]\n",
      "[0.         0.03625378]\n",
      " \n",
      "n_est =  5  l_rate =  10\n",
      "[0.         0.01846154]\n",
      "[0. 1.]\n",
      "[0.         0.03625378]\n",
      " \n",
      "n_est =  7  l_rate =  1\n",
      "[0.98628049 0.03322785]\n",
      "[0.76057994 0.4375    ]\n",
      "[0.85884956 0.06176471]\n",
      " \n",
      "n_est =  7  l_rate =  2\n",
      "[0.98151333 0.01824818]\n",
      "[0.89459248 0.10416667]\n",
      "[0.93603936 0.0310559 ]\n",
      " \n",
      "n_est =  7  l_rate =  5\n",
      "[0.97807309 0.01369863]\n",
      "[0.57680251 0.3125    ]\n",
      "[0.72565935 0.02624672]\n",
      " \n",
      "n_est =  7  l_rate =  7\n",
      "[0.         0.01846154]\n",
      "[0. 1.]\n",
      "[0.         0.03625378]\n",
      " \n",
      "n_est =  7  l_rate =  10\n",
      "[0.         0.01846154]\n",
      "[0. 1.]\n",
      "[0.         0.03625378]\n",
      " \n",
      "n_est =  10  l_rate =  1\n",
      "[0.98628049 0.03322785]\n",
      "[0.76057994 0.4375    ]\n",
      "[0.85884956 0.06176471]\n",
      " \n",
      "n_est =  10  l_rate =  2\n",
      "[0.98151333 0.01824818]\n",
      "[0.89459248 0.10416667]\n",
      "[0.93603936 0.0310559 ]\n",
      " \n",
      "n_est =  10  l_rate =  5\n",
      "[0.97807309 0.01369863]\n",
      "[0.57680251 0.3125    ]\n",
      "[0.72565935 0.02624672]\n",
      " \n",
      "n_est =  10  l_rate =  7\n",
      "[0.         0.01846154]\n",
      "[0. 1.]\n",
      "[0.         0.03625378]\n",
      " \n",
      "n_est =  10  l_rate =  10\n",
      "[0.         0.01846154]\n",
      "[0. 1.]\n",
      "[0.         0.03625378]\n",
      " \n"
     ]
    }
   ],
   "source": [
    "from sklearn.ensemble import AdaBoostClassifier\n",
    "from sklearn.metrics import accuracy_score\n",
    "from sklearn.metrics import average_precision_score\n",
    "n_est = [1,2,5,7,10]\n",
    "l_rate = [1,2,5,7,10]\n",
    "for x in n_est:\n",
    "    for y in l_rate:\n",
    "        clf = AdaBoostClassifier(n_estimators = 10, random_state = 0, learning_rate = y)\n",
    "        clf.fit(factors_res, output_res)\n",
    "        y_pred = clf.predict(X_test)\n",
    "        precision = precision_recall_fscore_support(y_test, y_pred)\n",
    "        print(\"n_est = \",x , \" l_rate = \", y)\n",
    "        for a in precision[0:3]:\n",
    "            print(a)\n",
    "        print(\" \")\n"
   ]
  },
  {
   "cell_type": "code",
   "execution_count": 112,
   "metadata": {
    "scrolled": false
   },
   "outputs": [
    {
     "name": "stdout",
     "output_type": "stream",
     "text": [
      "n_est =  1  l_rate =  7\n",
      "[0.         0.01846154]\n",
      "[0. 1.]\n",
      "[0.         0.03625378]\n",
      " \n",
      "n_est =  1  l_rate =  10\n",
      "[0.         0.01846154]\n",
      "[0. 1.]\n",
      "[0.         0.03625378]\n",
      " \n",
      "n_est =  2  l_rate =  7\n",
      "[0.         0.01846154]\n",
      "[0. 1.]\n",
      "[0.         0.03625378]\n",
      " \n",
      "n_est =  2  l_rate =  10\n",
      "[0.         0.01846154]\n",
      "[0. 1.]\n",
      "[0.         0.03625378]\n",
      " \n",
      "n_est =  5  l_rate =  7\n",
      "[0.         0.01846154]\n",
      "[0. 1.]\n",
      "[0.         0.03625378]\n",
      " \n",
      "n_est =  5  l_rate =  10\n",
      "[0.         0.01846154]\n",
      "[0. 1.]\n",
      "[0.         0.03625378]\n",
      " \n",
      "n_est =  7  l_rate =  7\n",
      "[0.         0.01846154]\n",
      "[0. 1.]\n",
      "[0.         0.03625378]\n",
      " \n",
      "n_est =  7  l_rate =  10\n",
      "[0.         0.01846154]\n",
      "[0. 1.]\n",
      "[0.         0.03625378]\n",
      " \n",
      "n_est =  10  l_rate =  7\n",
      "[0.         0.01846154]\n",
      "[0. 1.]\n",
      "[0.         0.03625378]\n",
      " \n",
      "n_est =  10  l_rate =  10\n",
      "[0.         0.01846154]\n",
      "[0. 1.]\n",
      "[0.         0.03625378]\n",
      " \n"
     ]
    }
   ],
   "source": [
    "from sklearn.ensemble import AdaBoostClassifier\n",
    "from sklearn.metrics import accuracy_score\n",
    "from sklearn.metrics import average_precision_score\n",
    "n_est = [1,2,5,7,10]\n",
    "l_rate = [1,2,5,7,10]\n",
    "for x in n_est:\n",
    "    for y in l_rate:\n",
    "        clf = AdaBoostClassifier(n_estimators = 10, random_state = 0, learning_rate = y)\n",
    "        clf.fit(factors_res, output_res)\n",
    "        y_pred = clf.predict(X_test)\n",
    "        precision = precision_recall_fscore_support(y_test, y_pred)\n",
    "        for z in precision[1:2]:\n",
    "            if z[1] == 1:\n",
    "                print(\"n_est = \",x , \" l_rate = \", y)\n",
    "                for a in precision[0:3]:\n",
    "                    print(a)\n",
    "                print(\" \")\n"
   ]
  },
  {
   "cell_type": "markdown",
   "metadata": {},
   "source": [
    "So it looks like we are able to correctly predict all of our injuries at the price of misclassifing plays that did not result in injuries. This seems fine, but now that we have so many versions of our model correctly predicting injuries, I turn to F1-Score to decide which models are better comparitively."
   ]
  },
  {
   "cell_type": "markdown",
   "metadata": {},
   "source": [
    "Yikes. They're all predicting the same thing where (I'm assuming) they're all predicting a huge portion of the data is in the injured class and they're all drawing the same line in the sand. "
   ]
  },
  {
   "cell_type": "code",
   "execution_count": null,
   "metadata": {},
   "outputs": [],
   "source": [
    "# Different penalizing functions were applied to both log reg models"
   ]
  },
  {
   "cell_type": "code",
   "execution_count": 119,
   "metadata": {},
   "outputs": [
    {
     "name": "stdout",
     "output_type": "stream",
     "text": [
      "max_interations =  10  C =  0.2\n",
      "[0.9862259  0.02183984]\n",
      "[0.42084639 0.6875    ]\n",
      "[0.58994782 0.04233483]\n",
      " \n",
      "max_interations =  10  C =  0.5\n",
      "[0.98312236 0.02037351]\n",
      "[0.54780564 0.5       ]\n",
      "[0.70357323 0.03915171]\n",
      " \n",
      "max_interations =  10  C =  1\n",
      "[0.98312784 0.02077432]\n",
      "[0.59365204 0.45833333]\n",
      "[0.7402883  0.03974706]\n",
      " \n",
      "max_interations =  10  C =  2\n",
      "[0.98316708 0.02108434]\n",
      "[0.61794671 0.4375    ]\n",
      "[0.75890279 0.04022989]\n",
      " \n",
      "max_interations =  10  C =  5\n",
      "[0.98334362 0.02145046]\n",
      "[0.62460815 0.4375    ]\n",
      "[0.76395878 0.04089581]\n",
      " \n",
      "max_interations =  10  C =  10\n",
      "[0.98356665 0.02194357]\n",
      "[0.63322884 0.4375    ]\n",
      "[0.770441   0.04179104]\n",
      " \n",
      "max_interations =  50  C =  0.2\n",
      "[0.98623853 0.0218543 ]\n",
      "[0.42123824 0.6875    ]\n",
      "[0.59033498 0.042362  ]\n",
      " \n",
      "max_interations =  50  C =  0.5\n",
      "[0.9831815  0.02046036]\n",
      "[0.54976489 0.5       ]\n",
      "[0.70520231 0.03931204]\n",
      " \n",
      "max_interations =  50  C =  1\n",
      "[0.98324742 0.02099237]\n",
      "[0.59796238 0.45833333]\n",
      "[0.74366472 0.04014599]\n",
      " \n",
      "max_interations =  50  C =  2\n",
      "[0.98360656 0.02169625]\n",
      "[0.61128527 0.45833333]\n",
      "[0.75398743 0.04143126]\n",
      " \n",
      "max_interations =  50  C =  5\n",
      "[0.98308271 0.02091633]\n",
      "[0.61481191 0.4375    ]\n",
      "[0.75650916 0.03992395]\n",
      " \n",
      "max_interations =  50  C =  10\n",
      "[0.98238994 0.01980198]\n",
      "[0.61206897 0.41666667]\n",
      "[0.75422501 0.03780718]\n",
      " \n",
      "max_interations =  100  C =  0.2\n",
      "[0.98623853 0.0218543 ]\n",
      "[0.42123824 0.6875    ]\n",
      "[0.59033498 0.042362  ]\n",
      " \n",
      "max_interations =  100  C =  0.5\n",
      "[0.9831815  0.02046036]\n",
      "[0.54976489 0.5       ]\n",
      "[0.70520231 0.03931204]\n",
      " \n",
      "max_interations =  100  C =  1\n",
      "[0.98324742 0.02099237]\n",
      "[0.59796238 0.45833333]\n",
      "[0.74366472 0.04014599]\n",
      " \n",
      "max_interations =  100  C =  2\n",
      "[0.98360656 0.02169625]\n",
      "[0.61128527 0.45833333]\n",
      "[0.75398743 0.04143126]\n",
      " \n",
      "max_interations =  100  C =  5\n",
      "[0.98308271 0.02091633]\n",
      "[0.61481191 0.4375    ]\n",
      "[0.75650916 0.03992395]\n",
      " \n",
      "max_interations =  100  C =  10\n",
      "[0.98238994 0.01980198]\n",
      "[0.61206897 0.41666667]\n",
      "[0.75422501 0.03780718]\n",
      " \n",
      "max_interations =  150  C =  0.2\n",
      "[0.98623853 0.0218543 ]\n",
      "[0.42123824 0.6875    ]\n",
      "[0.59033498 0.042362  ]\n",
      " \n",
      "max_interations =  150  C =  0.5\n",
      "[0.9831815  0.02046036]\n",
      "[0.54976489 0.5       ]\n",
      "[0.70520231 0.03931204]\n",
      " \n",
      "max_interations =  150  C =  1\n",
      "[0.98324742 0.02099237]\n",
      "[0.59796238 0.45833333]\n",
      "[0.74366472 0.04014599]\n",
      " \n",
      "max_interations =  150  C =  2\n",
      "[0.98360656 0.02169625]\n",
      "[0.61128527 0.45833333]\n",
      "[0.75398743 0.04143126]\n",
      " \n",
      "max_interations =  150  C =  5\n",
      "[0.98308271 0.02091633]\n",
      "[0.61481191 0.4375    ]\n",
      "[0.75650916 0.03992395]\n",
      " \n",
      "max_interations =  150  C =  10\n",
      "[0.98238994 0.01980198]\n",
      "[0.61206897 0.41666667]\n",
      "[0.75422501 0.03780718]\n",
      " \n",
      "max_interations =  200  C =  0.2\n",
      "[0.98623853 0.0218543 ]\n",
      "[0.42123824 0.6875    ]\n",
      "[0.59033498 0.042362  ]\n",
      " \n",
      "max_interations =  200  C =  0.5\n",
      "[0.9831815  0.02046036]\n",
      "[0.54976489 0.5       ]\n",
      "[0.70520231 0.03931204]\n",
      " \n",
      "max_interations =  200  C =  1\n",
      "[0.98324742 0.02099237]\n",
      "[0.59796238 0.45833333]\n",
      "[0.74366472 0.04014599]\n",
      " \n",
      "max_interations =  200  C =  2\n",
      "[0.98360656 0.02169625]\n",
      "[0.61128527 0.45833333]\n",
      "[0.75398743 0.04143126]\n",
      " \n",
      "max_interations =  200  C =  5\n",
      "[0.98308271 0.02091633]\n",
      "[0.61481191 0.4375    ]\n",
      "[0.75650916 0.03992395]\n",
      " \n",
      "max_interations =  200  C =  10\n",
      "[0.98238994 0.01980198]\n",
      "[0.61206897 0.41666667]\n",
      "[0.75422501 0.03780718]\n",
      " \n"
     ]
    }
   ],
   "source": [
    "from sklearn.linear_model import LogisticRegression\n",
    "mx_iter = [10,50,100,150,200]\n",
    "c = [0.2,0.5,1,2,5,10]\n",
    "for x in mx_iter:\n",
    "    for y in c:\n",
    "        clf = LogisticRegression(penalty = 'l2', C = y, max_iter = x)\n",
    "        clf.fit(factors_res, output_res)\n",
    "        y_pred = clf.predict(X_test)\n",
    "        precision = precision_recall_fscore_support(y_test, y_pred)\n",
    "        print(\"max_interations = \",x , \" C = \", y)\n",
    "        for a in precision[0:3]:\n",
    "            print(a)\n",
    "        print(\" \")"
   ]
  },
  {
   "cell_type": "code",
   "execution_count": 118,
   "metadata": {},
   "outputs": [
    {
     "name": "stdout",
     "output_type": "stream",
     "text": [
      "max_interations =  10  C =  0.2\n",
      "[0.98294829 0.02173913]\n",
      "[0.70023511 0.35416667]\n",
      "[0.81784897 0.04096386]\n",
      " \n",
      "max_interations =  10  C =  0.5\n",
      "[0.98294829 0.02173913]\n",
      "[0.70023511 0.35416667]\n",
      "[0.81784897 0.04096386]\n",
      " \n",
      "max_interations =  10  C =  1\n",
      "[0.98294829 0.02173913]\n",
      "[0.70023511 0.35416667]\n",
      "[0.81784897 0.04096386]\n",
      " \n",
      "max_interations =  10  C =  2\n",
      "[0.98294829 0.02173913]\n",
      "[0.70023511 0.35416667]\n",
      "[0.81784897 0.04096386]\n",
      " \n",
      "max_interations =  10  C =  5\n",
      "[0.98294829 0.02173913]\n",
      "[0.70023511 0.35416667]\n",
      "[0.81784897 0.04096386]\n",
      " \n",
      "max_interations =  10  C =  10\n",
      "[0.98294829 0.02173913]\n",
      "[0.70023511 0.35416667]\n",
      "[0.81784897 0.04096386]\n",
      " \n",
      "max_interations =  50  C =  0.2\n",
      "[0.98571429 0.02525253]\n",
      "[0.6218652  0.52083333]\n",
      "[0.76261413 0.04816956]\n",
      " \n",
      "max_interations =  50  C =  0.5\n",
      "[0.98571429 0.02525253]\n",
      "[0.6218652  0.52083333]\n",
      "[0.76261413 0.04816956]\n",
      " \n",
      "max_interations =  50  C =  1\n",
      "[0.98571429 0.02525253]\n",
      "[0.6218652  0.52083333]\n",
      "[0.76261413 0.04816956]\n",
      " \n",
      "max_interations =  50  C =  2\n",
      "[0.98571429 0.02525253]\n",
      "[0.6218652  0.52083333]\n",
      "[0.76261413 0.04816956]\n",
      " \n",
      "max_interations =  50  C =  5\n",
      "[0.98571429 0.02525253]\n",
      "[0.6218652  0.52083333]\n",
      "[0.76261413 0.04816956]\n",
      " \n",
      "max_interations =  50  C =  10\n",
      "[0.98571429 0.02525253]\n",
      "[0.6218652  0.52083333]\n",
      "[0.76261413 0.04816956]\n",
      " \n",
      "max_interations =  100  C =  0.2\n",
      "[0.98541535 0.02443793]\n",
      "[0.60893417 0.52083333]\n",
      "[0.75272463 0.04668534]\n",
      " \n",
      "max_interations =  100  C =  0.5\n",
      "[0.98541535 0.02443793]\n",
      "[0.60893417 0.52083333]\n",
      "[0.75272463 0.04668534]\n",
      " \n",
      "max_interations =  100  C =  1\n",
      "[0.98541535 0.02443793]\n",
      "[0.60893417 0.52083333]\n",
      "[0.75272463 0.04668534]\n",
      " \n",
      "max_interations =  100  C =  2\n",
      "[0.98541535 0.02443793]\n",
      "[0.60893417 0.52083333]\n",
      "[0.75272463 0.04668534]\n",
      " \n",
      "max_interations =  100  C =  5\n",
      "[0.98541535 0.02443793]\n",
      "[0.60893417 0.52083333]\n",
      "[0.75272463 0.04668534]\n",
      " \n",
      "max_interations =  100  C =  10\n",
      "[0.98541535 0.02443793]\n",
      "[0.60893417 0.52083333]\n",
      "[0.75272463 0.04668534]\n",
      " \n",
      "max_interations =  150  C =  0.2\n",
      "[0.98539683 0.02439024]\n",
      "[0.60815047 0.52083333]\n",
      "[0.75212018 0.04659832]\n",
      " \n",
      "max_interations =  150  C =  0.5\n",
      "[0.98539683 0.02439024]\n",
      "[0.60815047 0.52083333]\n",
      "[0.75212018 0.04659832]\n",
      " \n",
      "max_interations =  150  C =  1\n",
      "[0.98539683 0.02439024]\n",
      "[0.60815047 0.52083333]\n",
      "[0.75212018 0.04659832]\n",
      " \n",
      "max_interations =  150  C =  2\n",
      "[0.98539683 0.02439024]\n",
      "[0.60815047 0.52083333]\n",
      "[0.75212018 0.04659832]\n",
      " \n",
      "max_interations =  150  C =  5\n",
      "[0.98539683 0.02439024]\n",
      "[0.60815047 0.52083333]\n",
      "[0.75212018 0.04659832]\n",
      " \n",
      "max_interations =  150  C =  10\n",
      "[0.98539683 0.02439024]\n",
      "[0.60815047 0.52083333]\n",
      "[0.75212018 0.04659832]\n",
      " \n",
      "max_interations =  200  C =  0.2\n",
      "[0.98535964 0.02429543]\n",
      "[0.60658307 0.52083333]\n",
      "[0.75090953 0.04642526]\n",
      " \n",
      "max_interations =  200  C =  0.5\n",
      "[0.98535964 0.02429543]\n",
      "[0.60658307 0.52083333]\n",
      "[0.75090953 0.04642526]\n",
      " \n",
      "max_interations =  200  C =  1\n",
      "[0.98535964 0.02429543]\n",
      "[0.60658307 0.52083333]\n",
      "[0.75090953 0.04642526]\n",
      " \n",
      "max_interations =  200  C =  2\n",
      "[0.98535964 0.02429543]\n",
      "[0.60658307 0.52083333]\n",
      "[0.75090953 0.04642526]\n",
      " \n",
      "max_interations =  200  C =  5\n",
      "[0.98535964 0.02429543]\n",
      "[0.60658307 0.52083333]\n",
      "[0.75090953 0.04642526]\n",
      " \n",
      "max_interations =  200  C =  10\n",
      "[0.98535964 0.02429543]\n",
      "[0.60658307 0.52083333]\n",
      "[0.75090953 0.04642526]\n",
      " \n"
     ]
    }
   ],
   "source": [
    "from sklearn.linear_model import LogisticRegression\n",
    "mx_iter = [10,50,100,150,200]\n",
    "c = [0.2,0.5,1,2,5,10]\n",
    "for x in mx_iter:\n",
    "    for y in c:\n",
    "        clf = LogisticRegression(penalty = 'none', C = y, max_iter = x)\n",
    "        clf.fit(factors_res, output_res)\n",
    "        y_pred = clf.predict(X_test)\n",
    "        precision = precision_recall_fscore_support(y_test, y_pred)\n",
    "        print(\"max_interations = \",x , \" C = \", y)\n",
    "        for a in precision[0:3]:\n",
    "            print(a)\n",
    "        print(\" \")"
   ]
  },
  {
   "cell_type": "markdown",
   "metadata": {},
   "source": [
    "# Conclusion\n",
    "At the end of the day, it become a question of what is more important. Is it more important to predict injury when it happens? Is it more important to not misclassify? Or is there a harmonic mean we would be happy with?\n",
    "\n",
    "The following results for the max value of each given our algorithms:\n",
    "\n",
    "Max Precision: AdaBoost\n",
    "n_est =  1  l_rate =  1\n",
    "[0.98628049 0.03322785]\n",
    "[0.76057994 0.4375    ]\n",
    "[0.85884956 0.06176471]\n",
    "\n",
    "Max Recall: AdaBoost\n",
    "n_est =  1  l_rate =  10\n",
    "[0.         0.01846154]\n",
    "[0. 1.]\n",
    "[0.         0.03625378]\n",
    "\n",
    "Best F1-Score: AdaBoost\n",
    "n_est =  1  l_rate =  1\n",
    "[0.98628049 0.03322785]\n",
    "[0.76057994 0.4375    ]\n",
    "[0.85884956 0.06176471]\n"
   ]
  },
  {
   "cell_type": "markdown",
   "metadata": {},
   "source": [
    "# To Do List:\n",
    "    -Create more features from data given\n",
    "    -Take away correlated features to improve our models"
   ]
  }
 ],
 "metadata": {
  "kernelspec": {
   "display_name": "Python 3",
   "language": "python",
   "name": "python3"
  },
  "language_info": {
   "codemirror_mode": {
    "name": "ipython",
    "version": 3
   },
   "file_extension": ".py",
   "mimetype": "text/x-python",
   "name": "python",
   "nbconvert_exporter": "python",
   "pygments_lexer": "ipython3",
   "version": "3.7.4"
  }
 },
 "nbformat": 4,
 "nbformat_minor": 2
}
